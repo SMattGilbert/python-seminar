{
 "cells": [
  {
   "cell_type": "markdown",
   "metadata": {},
   "source": [
    "# Structuring Code for Release"
   ]
  },
  {
   "cell_type": "markdown",
   "metadata": {},
   "source": [
    "<center><h2>Modules and Packages</h2></center>\n",
    "\n",
    "* As code gets more involved, it becomes unwieldy & unnatural to keep everything in the same file, or even the same folder\n",
    "\n",
    "* Functions from other codes made for different reasons might be useful elsewhere\n",
    "\n",
    "* Useful to break up code into modules and packages  - used like ‘package.module’\n",
    "\n",
    "* **Module**: file containing defined functions & variables. **It must have a .py extension.**\n",
    "\n",
    "* **Package**: a properly-organized folder containing modules (packages Numpy are well-developed examples - you can make your own) "
   ]
  },
  {
   "cell_type": "code",
   "execution_count": null,
   "metadata": {
    "collapsed": false
   },
   "outputs": [],
   "source": [
    "%ls /Users/jbloom/anaconda/envs/seminar/lib/python3.5/site-packages"
   ]
  },
  {
   "cell_type": "code",
   "execution_count": null,
   "metadata": {
    "collapsed": false
   },
   "outputs": [],
   "source": [
    "%ls /Users/jbloom/anaconda/envs/seminar/lib/python3.5/site-packages/twilio"
   ]
  },
  {
   "cell_type": "markdown",
   "metadata": {},
   "source": [
    "<p><h2>Modules: Setting up your path</h2></p>\n",
    "`PYTHONPATH`\n",
    "Augment the default search path for module files. The format is the same as the shell’s PATH: one or more directory pathnames separated by os.pathsep (e.g. colons on Unix or semicolons on Windows). Non-existent directories are silently ignored.\n",
    "\n",
    "In addition to normal directories, individual PYTHONPATH entries may refer to zipfiles containing pure Python modules (in either source or compiled form). Extension modules cannot be imported from zipfiles.\n",
    "The default search path is installation dependent, but generally begins with prefix/lib/pythonversion (see PYTHONHOME above). It is always appended to PYTHONPATH.\n",
    "\n",
    "An additional directory will be inserted in the search path in front of PYTHONPATH as described above under Interface options. The search path can be manipulated from within a Python program as the variable sys.path.\n",
    "\n",
    "Add to your .bashrc, .cshrc, or .tcshrc file:\n",
    "```bash\n",
    "#BASH Style: \n",
    "export PYTHONPATH=/path/to/your/code\n",
    "#CSH Style: \n",
    "setenv PYTHONPATH /path/to/your/code\n",
    "```"
   ]
  },
  {
   "cell_type": "code",
   "execution_count": null,
   "metadata": {
    "collapsed": false
   },
   "outputs": [],
   "source": [
    "import sys\n",
    "# Get a list of all paths python is looking at with sys.path\n",
    "print(sys.path[-4:])  # only look at the first 4 to save space\n",
    "# Can append to this list:\n",
    "# sys.path.append(“/new/software/path/”)"
   ]
  },
  {
   "cell_type": "markdown",
   "metadata": {},
   "source": [
    "New paths appended will not be preserved upon exiting python. \n",
    "For long-term path appending, use PYTHONPATH environment variable defined in previous slide."
   ]
  },
  {
   "cell_type": "markdown",
   "metadata": {},
   "source": [
    "<p><h2> Packages</h2></p>\n",
    "\n",
    "\"Packages are a way of structuring Python’s module namespace by using “dotted module names”. For example, the module name A.B designates a submodule named B in a package named A. Just like the use of modules saves the authors of different modules from having to worry about each other’s global variable names, the use of dotted module names saves the authors of multi-module packages like NumPy or the Python Imaging Library from having to worry about each other’s module names.\" [Python tutorial](https://docs.python.org/3/tutorial/modules.html)\n",
    "\n",
    "* If path is set correctly, code can be broken up into reasonable folders and imported as necessary, either by importing entire modules (.py files) or functions/classes within the modules.\n",
    "\n",
    "* Put an `__init__.py` file in each folder you want to be able to import from.\n",
    "\n",
    "* Code in `__init__.py` is run when the package, or any derivative of it, is imported.  Often `__init__`.py is an empty file.\n",
    "\n",
    "* if a package’s `__init__.py` code defines a list named `__all__`, it is taken to be the list of module names that should be imported when from package import * is encountered"
   ]
  },
  {
   "cell_type": "markdown",
   "metadata": {},
   "source": [
    "Example:\n",
    "```pre\n",
    "sound/                      #Top-level package\n",
    "  __init__.py               #Initialize the sound package\n",
    "  formats/                  #Subpackage for file format conversions\n",
    "      __init__.py\n",
    "      wavread.py\n",
    "      wavwrite.py\n",
    "      aiffread.py\n",
    "      aiffwrite.py\n",
    "      auread.py\n",
    "      auwrite.py\n",
    "      ...\n",
    "  effects/                  #Subpackage for sound effects\n",
    "      __init__.py\n",
    "      echo.py\n",
    "      surround.py\n",
    "      reverse.py\n",
    "      ...\n",
    "  filters/                  #Subpackage for filters\n",
    "      __init__.py\n",
    "      equalizer.py\n",
    "      vocoder.py\n",
    "      karaoke.py\n",
    "      ...\n",
    "```"
   ]
  },
  {
   "cell_type": "markdown",
   "metadata": {},
   "source": [
    "# Distributions - distutils2 #\n",
    "\n",
    "* distutils2: the standard way to take your directories of code and bundle them up for easy installation and use by others\n",
    "* You create a setup.py file which allows others to install your code in the standard fashion.\n",
    "* There are myriad options for the metadata you can define, an incredibly simple example is below:\n",
    "```python\n",
    "from distutils2.core import setup\n",
    "setup(name='My_Package',\n",
    "      version='0.01',\n",
    "       license='License_to_not_kill',\n",
    "      py_modules=['my_package_name'],\n",
    "      )\n",
    "```\n",
    "\n",
    "http://pythonhosted.org/Distutils2/distutils/introduction.html\n",
    "\n",
    "http://pypi.python.org/pypi/Distutils2\n",
    "\n",
    "Running the `setup.py` will install your package (and modules) into the Python path\n",
    "\n",
    "If you’ve written your own package, use distutils2 to create a standard, share-able zipped file\n",
    "```bash\n",
    "cd My_Package_folder\n",
    "python setup.py sdist\n",
    "\n",
    "[... created my_package_name-0.1.tar.gz ...]\n",
    "```\n",
    "http://guide.python-distribute.org/"
   ]
  },
  {
   "cell_type": "markdown",
   "metadata": {},
   "source": [
    "## Putting it all together\n",
    "\n",
    "See package management: https://packaging.python.org/\n",
    "\n",
    "```bash\n",
    "# tree PyAdder/ -a -T PyAdder -C --noreport -I \".git|*.pyc\"\n",
    "PyAdder/\n",
    "├── .gitignore           # files/paths to ignore if you are git\n",
    "├── .travis\n",
    "│   └── run.sh           # executable telling travis what to run (ie. tests)\n",
    "├── .travis.yml          # directive to Travis\n",
    "├── CHANGES.txt\n",
    "├── LICENSE.txt          # Be nice. Set a license.\n",
    "├── MANIFEST.in\n",
    "├── README.md            # should always have a readme\n",
    "├── adder                # name of your package\n",
    "│   ├── __init__.py\n",
    "│   └── tests                    # put your test in separate directories \n",
    "│       ├── __init__.py\n",
    "│       └── test_one_number.py\n",
    "├── requirements.txt             # python requirements\n",
    "├── setup.cfg\n",
    "└── setup.py\n",
    "```\n",
    "\n",
    "Let's look at the repo: https://github.com/profjsb/PyAdder"
   ]
  },
  {
   "cell_type": "code",
   "execution_count": null,
   "metadata": {
    "collapsed": false
   },
   "outputs": [],
   "source": [
    "cd PyAdder/"
   ]
  },
  {
   "cell_type": "code",
   "execution_count": null,
   "metadata": {
    "collapsed": false
   },
   "outputs": [],
   "source": [
    "!python setup.py test"
   ]
  },
  {
   "cell_type": "code",
   "execution_count": null,
   "metadata": {
    "collapsed": false
   },
   "outputs": [],
   "source": [
    "!python setup.py sdist bdist_wheel"
   ]
  },
  {
   "cell_type": "code",
   "execution_count": null,
   "metadata": {
    "collapsed": false
   },
   "outputs": [],
   "source": [
    "ls dist/"
   ]
  },
  {
   "cell_type": "code",
   "execution_count": null,
   "metadata": {
    "collapsed": false
   },
   "outputs": [],
   "source": [
    "!pip install dist/PyAdder-0.0.1-py3-none-any.whl"
   ]
  },
  {
   "cell_type": "code",
   "execution_count": null,
   "metadata": {
    "collapsed": false
   },
   "outputs": [],
   "source": [
    "import adder\n",
    "adder.run(1,2,10)"
   ]
  },
  {
   "cell_type": "markdown",
   "metadata": {},
   "source": [
    "## PyPi\n",
    "\n",
    "Let's upload to PyPi (see http://peterdowns.com/posts/first-time-with-pypi.html)"
   ]
  },
  {
   "cell_type": "code",
   "execution_count": null,
   "metadata": {
    "collapsed": true
   },
   "outputs": [],
   "source": [
    "# python setup.py sdist upload -r pypi\n",
    "https://pypi.python.org/pypi?name=PyAdder&version=0.0.1&:action=display"
   ]
  },
  {
   "cell_type": "markdown",
   "metadata": {
    "collapsed": true
   },
   "source": [
    "Now you should be able to pip install this:"
   ]
  },
  {
   "cell_type": "code",
   "execution_count": null,
   "metadata": {
    "collapsed": false
   },
   "outputs": [],
   "source": [
    "!pip install pyadder"
   ]
  },
  {
   "cell_type": "markdown",
   "metadata": {},
   "source": [
    "# Continuous Integration\n",
    "\n",
    "\"Continuous Integration is a software development practice where members of a team integrate their work frequently, usually each person integrates at least daily - leading to multiple integrations per day. Each integration is verified by an automated build (including test) to detect integration errors as quickly as possible. Many teams find that this approach leads to significantly reduced integration problems and allows a team to develop cohesive software more rapidly.\"\n",
    "\n",
    "http://docs.python-guide.org/en/latest/scenarios/ci/\n",
    "\n",
    "**Travis-CI** is a distributed CI server which builds tests for open source projects for free. It provides multiple workers to run Python tests on and seamlessly integrates with GitHub. You can even have it comment on your Pull Requests whether this particular changeset breaks the build or not. So if you are hosting your code on GitHub, travis-ci is a great and easy way to get started with Continuous Integration. See https://docs.travis-ci.com/\n",
    "\n",
    "Let's look at the Travis CI interface: https://travis-ci.org/profjsb/PyAdder"
   ]
  },
  {
   "cell_type": "markdown",
   "metadata": {},
   "source": [
    "# Making Code Citeable\n",
    "\n",
    "http://ivory.idyll.org/blog/category/science.html\n",
    "https://guides.github.com/activities/citable-code/\n",
    "\n",
    "<img src=\"https://www.evernote.com/l/AUVFhdB6uhFC7IAz3uSz5K-L74xYniPLyQUB/image.png\">\n"
   ]
  },
  {
   "cell_type": "markdown",
   "metadata": {
    "collapsed": true
   },
   "source": [
    "<img src=\"https://www.evernote.com/l/AUUiuc2SSGNHk63FpxmZrYb2w4nSuzUry9UB/image.png\">"
   ]
  },
  {
   "cell_type": "markdown",
   "metadata": {},
   "source": [
    "https://zenodo.org/record/167358#.WC5NGqIrJ-U\n",
    "[![DOI](https://zenodo.org/badge/74057441.svg)](https://zenodo.org/badge/latestdoi/74057441)"
   ]
  },
  {
   "cell_type": "code",
   "execution_count": null,
   "metadata": {
    "collapsed": true
   },
   "outputs": [],
   "source": []
  }
 ],
 "metadata": {
  "kernelspec": {
   "display_name": "Python 3",
   "language": "python",
   "name": "py3k"
  },
  "language_info": {
   "codemirror_mode": {
    "name": "ipython",
    "version": 3
   },
   "file_extension": ".py",
   "mimetype": "text/x-python",
   "name": "python",
   "nbconvert_exporter": "python",
   "pygments_lexer": "ipython3",
   "version": "3.5.2"
  }
 },
 "nbformat": 4,
 "nbformat_minor": 0
}
