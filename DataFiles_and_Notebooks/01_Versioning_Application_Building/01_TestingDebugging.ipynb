{
 "cells": [
  {
   "cell_type": "markdown",
   "metadata": {},
   "source": [
    "<img src=\"http://s2.quickmeme.com/img/22/228c7e9afc0352e0b7a890e3f358afebfe2882c37efacae7ab8bc551468afbf4.jpg\">"
   ]
  },
  {
   "cell_type": "markdown",
   "metadata": {},
   "source": [
    "# Debugging Code #\n",
    "\n",
    " * Standard technique of inserting “print” statements may be inconvenient if code takes a long time to run\n",
    " * The module `pdb` is an interactive source  debugger\n",
    " * Variables are preserved at breakpoint, and can interactively step through lines of code\n",
    " \n",
    " http://docs.python.org/library/pdb.html\n",
    " \n",
    "Use `pdb.set_trace()` to explore and interact with problematic code:\n",
    "```python\n",
    "#[ in some problematic python file ]\n",
    "import pdb\n",
    "#[ code code code ]\n",
    "pdb.set_trace()   # hard-code a breakpoint at a given point in a program\n",
    "#[ problematic code ]\n",
    "```\n",
    "using from the command line:\n",
    "```bash\n",
    "python -m pdb myscript.py\n",
    "```\n",
    "pdb will automatically enter post-mortem debugging if the program being debugged exits abnormally. "
   ]
  },
  {
   "cell_type": "markdown",
   "metadata": {},
   "source": [
    " Can debug within iPython by typing debug after exception is raised\n",
    "‘help’ shows the commands available, for both pdb and iPython’s ipdb"
   ]
  },
  {
   "cell_type": "markdown",
   "metadata": {},
   "source": [
    "# Good coding style\n",
    "\n",
    " - There is an official Python style guide, called PEP8:\n",
    "    http://www.python.org/dev/peps/pep-0008/\n",
    " \n",
    " - Guido sez: ‘code is read much more often than it is written’\n",
    "     - especially true for scientific code\n",
    "     \n",
    " - Python enables you to write readable code, so do it!  The world will seem a happier place.\n",
    " \n",
    " - `pylint`, `pep8`, and similar tools tell you whether code is self-consistent, if sections are duplicated, and where/how you break the style rules\n",
    " \n",
    " - get them with pip, run them like: `pep8 my_code.py`\n",
    " "
   ]
  },
  {
   "cell_type": "markdown",
   "metadata": {},
   "source": [
    "## Testing - nosetest/pytest ##\n",
    "\n",
    "* `nosetest`/`pytest` are programs that runs any pre-defined tests you have written, and reports back the results\n",
    "* within your code, add test functions that act as self-checks\n",
    "* naming convention: test*\n",
    "* lay out everything you want your code to do beforehand, as a self check\n",
    "    * test-driven development"
   ]
  },
  {
   "cell_type": "markdown",
   "metadata": {},
   "source": [
    "write test functions that use the `assert` command - it raises an AssertionError if it does not evaluate to true\n",
    "\n",
    "```python\n",
    "#[ within my code ]\n",
    "def square_me(x):\n",
    "    return x**2\n",
    "\n",
    "def test_1():\n",
    "    # test the simple square_me function\n",
    "    assert square_me(2.) == 4.\n",
    "\n",
    "def test_2():\n",
    "    # testing without an absolute equality\n",
    "    assert abs(square_me(2.34) - 5.4756) < .001\n",
    "```"
   ]
  },
  {
   "cell_type": "code",
   "execution_count": null,
   "metadata": {
    "collapsed": false
   },
   "outputs": [],
   "source": [
    "%%writefile mycode.py\n",
    "import math\n",
    "from unittest import TestCase\n",
    "\n",
    "def square_me(x):\n",
    "    return x**2\n",
    "\n",
    "def test_1():\n",
    "    # test the simple square_me function\n",
    "    assert square_me(2.) == 4.\n",
    "\n",
    "def test_2():\n",
    "    # testing without an absolute equality\n",
    "    assert abs(square_me(2.34) - 5.4756) < .001\n",
    "    \n",
    "## can also make a class which is a subclass of TestCase...\n",
    "class TestOneNumber(TestCase):\n",
    "    def test_floats(self):\n",
    "        for num in [1617161771.7650001, math.pi, math.pi**100,\n",
    "                    math.pi**-100, 3.1]:\n",
    "            self.assertEqual(square_me(num), pow(num,2))"
   ]
  },
  {
   "cell_type": "code",
   "execution_count": null,
   "metadata": {
    "collapsed": false
   },
   "outputs": [],
   "source": [
    "!pytest mycode.py --verbose"
   ]
  },
  {
   "cell_type": "markdown",
   "metadata": {},
   "source": [
    "# Breakout \n",
    "<img src=\"https://s-media-cache-ak0.pinimg.com/originals/1b/d0/1c/1bd01c1c610b18d61482f831a11649ed.jpg\">"
   ]
  },
  {
   "cell_type": "markdown",
   "metadata": {},
   "source": [
    "Fix this code and write some new test cases to handle other possible inputs:"
   ]
  },
  {
   "cell_type": "code",
   "execution_count": null,
   "metadata": {
    "collapsed": false
   },
   "outputs": [],
   "source": [
    "%%writefile calvin.py\n",
    "\n",
    "class Transmogrifier:\n",
    "\n",
    "    def transmogrify(self, person):\n",
    "        \"\"\" Transmogrify someone\n",
    "        \"\"\"\n",
    "        transmog = {'calvin':'eel',\n",
    "                     'hobbes':'bug'}\n",
    "        new_person = transmog[person]\n",
    "        return new_person\n",
    "\n",
    "\n",
    "def test_transmogrify():\n",
    "    TM = Transmogrifier()\n",
    "    for p in ['Calvin', 'Hobbes']:\n",
    "        assert TM.transmogrify(p) != None\n",
    "\n",
    "\n",
    "def main():\n",
    "    TM = Transmogrifier()\n",
    "    for p in ['calvin', 'Hobbes']:\n",
    "        print(p, '->  ZAP!  ->', TM.transmogrify(p))"
   ]
  },
  {
   "cell_type": "code",
   "execution_count": null,
   "metadata": {
    "collapsed": false
   },
   "outputs": [],
   "source": [
    "!pytest calvin.py --verbose"
   ]
  },
  {
   "cell_type": "markdown",
   "metadata": {},
   "source": [
    "<img src=\"http://i.imgur.com/pxFdZSe.gif\">"
   ]
  },
  {
   "cell_type": "code",
   "execution_count": null,
   "metadata": {
    "collapsed": true
   },
   "outputs": [],
   "source": []
  }
 ],
 "metadata": {
  "kernelspec": {
   "display_name": "Python 3",
   "language": "python",
   "name": "py3k"
  },
  "language_info": {
   "codemirror_mode": {
    "name": "ipython",
    "version": 3
   },
   "file_extension": ".py",
   "mimetype": "text/x-python",
   "name": "python",
   "nbconvert_exporter": "python",
   "pygments_lexer": "ipython3",
   "version": "3.5.2"
  }
 },
 "nbformat": 4,
 "nbformat_minor": 0
}
