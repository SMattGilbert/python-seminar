{
 "cells": [
  {
   "cell_type": "markdown",
   "metadata": {},
   "source": [
    "<center>\n",
    "<h1>Python Application Building</h1>\n",
    "<img src=\"http://i.imgur.com/91PUPZA.png\" width=20%>\n",
    "</center>\n",
    "\n",
    "<center>\n",
    "AY 250, Spring 2013, Fall 2016; Josh Bloom\n",
    "</center>"
   ]
  },
  {
   "cell_type": "code",
   "execution_count": null,
   "metadata": {
    "collapsed": false
   },
   "outputs": [],
   "source": [
    "!pip install simplejson --target=/tmp/"
   ]
  },
  {
   "cell_type": "code",
   "execution_count": null,
   "metadata": {
    "collapsed": false
   },
   "outputs": [],
   "source": [
    "!ls /tmp/simple*"
   ]
  },
  {
   "cell_type": "markdown",
   "metadata": {},
   "source": [
    "`...dist-info` directory is part of the \"standard infrastructure to manage project distributions installed on a system, so all tools that are installing or removing projects are interoperable.\" [PEP-376](https://www.python.org/dev/peps/pep-0376/#id19)\n",
    "\n",
    "[Note the .whl extension...see [\"Wheel vs EGG\"](https://packaging.python.org/wheel_egg/) and [Wheel info](https://wheel.readthedocs.io/en/latest/)]\n",
    "\n",
    "Now, you can have Python know about your special installation directory by modifying your `PYTHONPATH` environment variable in your `.bashrc`, `.cshrc`, or `.tcshrc` file:\n",
    "```bash\n",
    "#BASH Style: \n",
    "export PYTHONPATH=/tmp/simplejson:$PYTHONPATH\n",
    "#CSH Style:\n",
    "setenv PYTHONPATH /path/to/my_choice:$PYTHONPATH\n",
    "```"
   ]
  },
  {
   "cell_type": "markdown",
   "metadata": {},
   "source": [
    "# Getting and Installing Packages with `setup.py` #\n",
    "\n",
    "Sometimes `conda` and `pip` cannot find a codebase you're trying to install. In this case you'll need to do it yourself using a tarball and a `setup.py` file. This is the most straightforward way to get packages: download them from the developer’s website and hope that they’ve followed the standard conventions.\n",
    "\n",
    "There is a standard Python package distribution scheme using `distutils2` and `setup.py` files...more on that later.\n",
    "\n",
    "Basic workflow of installing a package with `setup.py`:\n",
    "```bash\n",
    "$ cd [folder with package and setup.py file]\n",
    "$ sudo python setup.py install\n",
    "   # [ progress report ... ]\n",
    "$ Finished processing dependencies for [package]\n",
    "   # [if you want more info, there are several options to modify]\n",
    "$ python setup.py --help install\n",
    "```\n",
    "\n",
    "To do a custom installation directory (if you dont have sudo, e.g.):\n",
    "```bash\n",
    "# {-- on unix --}\n",
    "$ python setup.py install --home <my_choice>\n",
    "\n",
    "# {-- on windows --}\n",
    "$ python setup.py install --prefix “my_choice”\n",
    "```"
   ]
  },
  {
   "cell_type": "markdown",
   "metadata": {},
   "source": [
    "# Managing Packages - `virtualenv`/`conda` environments #\n",
    "\n",
    "* Open Source software is constantly changing - how do you protect working code against future updates?\n",
    "* Or, what if there is a beta release of a package you want to try, but you don’t want to fully commit yet?\n",
    "* `virtualenv` and `conda -n` creates a local, self-contained, and totally separate python installation.\n",
    "* Use it to create a local Python ecosystem, separate from your computer’s main system, so that you can do what you want in one without affecting the other."
   ]
  },
  {
   "cell_type": "markdown",
   "metadata": {},
   "source": [
    "# `virtualenv` #\n",
    "\n",
    "installing:"
   ]
  },
  {
   "cell_type": "code",
   "execution_count": null,
   "metadata": {
    "collapsed": false
   },
   "outputs": [],
   "source": [
    "!pip install --upgrade virtualenv"
   ]
  },
  {
   "cell_type": "markdown",
   "metadata": {},
   "source": [
    "Creating a new environment:"
   ]
  },
  {
   "cell_type": "markdown",
   "metadata": {},
   "source": [
    "[![asciicast](https://asciinema.org/a/cxhbq03rtd39ez8sy5scwqk1w.png)](https://asciinema.org/a/cxhbq03rtd39ez8sy5scwqk1w)"
   ]
  },
  {
   "cell_type": "markdown",
   "metadata": {},
   "source": [
    "(https://asciinema.org/)\n",
    "\n",
    "During a shell session, you can source this environment so that it runs as the default:\n",
    "\n",
    "```bash\n",
    "$ source LocalPython/bin/activate\n",
    "(LocalPython)$\n",
    "#[ pip and python commands now point to new environment ]\n",
    "(LocalPython)$ which python\n",
    "LocalPython/bin/python\n",
    "```\n",
    "\n",
    "We can get out of the enviroment:\n",
    "\n",
    "```bash\n",
    " deactivate LocalPython\n",
    "```\n",
    "Just delete to remove environment:\n",
    "\n",
    "```bash\n",
    "rm -r LocalPython\n",
    "```\n"
   ]
  },
  {
   "cell_type": "markdown",
   "metadata": {},
   "source": [
    "# conda -n #\n",
    "http://www.continuum.io/blog/conda"
   ]
  },
  {
   "cell_type": "code",
   "execution_count": null,
   "metadata": {
    "collapsed": false
   },
   "outputs": [],
   "source": [
    "!conda info"
   ]
  },
  {
   "cell_type": "code",
   "execution_count": null,
   "metadata": {
    "collapsed": false
   },
   "outputs": [],
   "source": [
    "!conda info -e"
   ]
  },
  {
   "cell_type": "code",
   "execution_count": null,
   "metadata": {
    "collapsed": false
   },
   "outputs": [],
   "source": [
    "!conda search simplejson"
   ]
  },
  {
   "cell_type": "code",
   "execution_count": null,
   "metadata": {
    "collapsed": false
   },
   "outputs": [],
   "source": [
    "!conda create -n sj381-test simplejson=3.8.1 -y"
   ]
  },
  {
   "cell_type": "code",
   "execution_count": null,
   "metadata": {
    "collapsed": false
   },
   "outputs": [],
   "source": [
    "!conda info -e"
   ]
  },
  {
   "cell_type": "code",
   "execution_count": null,
   "metadata": {
    "collapsed": false
   },
   "outputs": [],
   "source": [
    "!ls /Users/jbloom/anaconda/envs/sj381-test/bin"
   ]
  },
  {
   "cell_type": "markdown",
   "metadata": {},
   "source": [
    "We could make this environment the default if we want to:\n",
    "```bash\n",
    "export PATH=~/anaconda/envs/sj381-test/bin:$PATH\n",
    "```\n",
    "And if we want to remove that environment:\n",
    "```bash\n",
    "conda remove -n sj381-test --all\n",
    "```"
   ]
  },
  {
   "cell_type": "code",
   "execution_count": null,
   "metadata": {
    "collapsed": false
   },
   "outputs": [],
   "source": [
    "!conda remove -n sj381-test --all -y"
   ]
  },
  {
   "cell_type": "markdown",
   "metadata": {},
   "source": [
    "<center><h1> Command Line Parsing</h1></center>\n",
    "\n",
    "<center>`python myawesomeprogram.py -o option1 -p parameter2 -Q -R`</center>\n",
    "<p>\n",
    " **Goal**: build a command-line 'standalone' codebase in Python, w/ CL options & keywords\n",
    " \n",
    " **Solution**: `argparse`, which has been built in to Python 2.7 & above (if you don’t have it, you can get it with `pip argparse`)\n",
    " \n",
    "* Allows for  user-friendly command line interfaces, and leaves it up to the code to determine what it was the user wanted.\n",
    "\n",
    "* Also automatically generates help & usage messages and issues errors when invalid arguments are provided.\n",
    "\n",
    "(Note on `optparse`: being replaced in favor of `argparse`)"
   ]
  },
  {
   "cell_type": "code",
   "execution_count": null,
   "metadata": {
    "collapsed": true
   },
   "outputs": [],
   "source": [
    "import argparse"
   ]
  },
  {
   "cell_type": "markdown",
   "metadata": {},
   "source": [
    "# Setting up a parser #\n",
    "\n",
    "\n",
    "* First step for `argparse`: create parser object & tell it what arguments to expect. \n",
    "* It can then be used to process the command line arguments on runtime\n",
    "* Parser class: `ArgumentParser`. Takes several arguments to set up the description used in the help text for the program & other global behaviors \n",
    "   \n",
    " <p>\n",
    "See  http://www.doughellmann.com/PyMOTW/argparse/\n",
    "</p>"
   ]
  },
  {
   "cell_type": "code",
   "execution_count": null,
   "metadata": {
    "collapsed": false
   },
   "outputs": [],
   "source": [
    "%%writefile myfile.py\n",
    "#!/usr/bin/env python\n",
    "import argparse\n",
    "parser = argparse.ArgumentParser(description='Sample Application')\n",
    "print(\"hi\")"
   ]
  },
  {
   "cell_type": "markdown",
   "metadata": {},
   "source": [
    "# Defining Arguments & Parsing\n",
    "\n",
    "* Arguments can trigger different actions, specified by the action argument to `add_argument()`. \n",
    "* Several supported actions.\n",
    "* Once all of the arguments are defined, you can parse the command line by passing a sequence of argument strings to `parse_args()`. \n",
    "* By default, arguments are taken from `sys.argv[1:]`, but you can also pass your own list."
   ]
  },
  {
   "cell_type": "code",
   "execution_count": null,
   "metadata": {
    "collapsed": false
   },
   "outputs": [],
   "source": [
    "%%file argparse_action.py\n",
    "import argparse\n",
    "parser = argparse.ArgumentParser(description='Sample Application')\n",
    "parser.add_argument('required_arg_1', help='This positional argument is required')\n",
    "parser.add_argument('required_arg_2', help='This positional argument is also required')\n",
    "parser.add_argument('-s', action='store', dest='simple_value',\n",
    "                    help='Store a simple value')\n",
    "parser.add_argument('-c', action='store_const', dest='constant_value',\n",
    "                    const='value-to-store',\n",
    "                    help='Store a constant value')\n",
    "parser.add_argument('-t', action='store_true', default=False,\n",
    "                    dest='boolean_switch',\n",
    "                    help='Set a switch to true')\n",
    "parser.add_argument('-a', action='append', dest='collection',\n",
    "                    default=[],\n",
    "                    help='Add repeated values to a list',\n",
    "                    )\n",
    "parser.add_argument('-A', action='append_const', dest='const_collection',\n",
    "                    const='value-1-to-append',\n",
    "                    default=[],\n",
    "                    help='Add different values to list')\n",
    "parser.add_argument('-B', action='append_const', dest='const_collection',\n",
    "                    const='value-2-to-append',\n",
    "                    help='Add different values to list')\n",
    "parser.add_argument('--version', action='version', version='%(prog)s 1.0')\n",
    "\n",
    "results = parser.parse_args()\n",
    "print('required_args    =', results.required_arg_1, results.required_arg_2)\n",
    "print('simple_value     =', results.simple_value)\n",
    "print('constant_value   =', results.constant_value)\n",
    "print('boolean_switch   =', results.boolean_switch)\n",
    "print('collection       =', results.collection)\n",
    "print('const_collection =', results.const_collection)"
   ]
  },
  {
   "cell_type": "markdown",
   "metadata": {},
   "source": [
    "* `store`: Save the value, after optionally converting it to a different type (default)\n",
    "* `store_const`: Save the value as defined as part of the argument specification, rather than a value that comes from the arguments being parsed\n",
    "* `store_true`/`store_false`: Save the appropriate boolean value\n",
    "* `append`: Save the value to a list.  Multiple values are saved if the argument is repeated\n",
    "* `append_const`: Save a value defined in the argument specification to a list\n",
    "* `version`: Prints version details about the program and then exits"
   ]
  },
  {
   "cell_type": "markdown",
   "metadata": {},
   "source": [
    "There's also some other ways of doing arguement parsing that you might want to explore:\n",
    "\n",
    " * Click: http://click.pocoo.org/5/quickstart/#basic-concepts\n"
   ]
  },
  {
   "cell_type": "code",
   "execution_count": null,
   "metadata": {
    "collapsed": false
   },
   "outputs": [],
   "source": [
    "!pip install click"
   ]
  },
  {
   "cell_type": "code",
   "execution_count": null,
   "metadata": {
    "collapsed": false
   },
   "outputs": [],
   "source": [
    "%%writefile hello.py\n",
    "import click\n",
    "@click.command()\n",
    "@click.option('--count', default=1, help='number of greetings')\n",
    "@click.argument('name')\n",
    "def hello(count, name):\n",
    "    for x in range(count):\n",
    "        click.echo('Hello %s!' % name)\n",
    "\n",
    "if __name__ == '__main__':\n",
    "    hello()"
   ]
  },
  {
   "cell_type": "code",
   "execution_count": null,
   "metadata": {
    "collapsed": false
   },
   "outputs": [],
   "source": [
    "!python hello.py --help"
   ]
  },
  {
   "cell_type": "code",
   "execution_count": null,
   "metadata": {
    "collapsed": false
   },
   "outputs": [],
   "source": [
    "!python hello.py --count=2 Josh"
   ]
  },
  {
   "cell_type": "markdown",
   "metadata": {},
   "source": [
    "# Breakout! #\n",
    "\n",
    "* Go to the breakout folder in: `../Breakouts/01_Versioning_Application_Building/`\n",
    "\n",
    "* Work on the file `breakout1.py`.  Do not move or modify the other files, in the other folders, but you will need to use them.  (You may add files to these directories, if necessary)\n",
    "\n",
    "* Build up a command line parser which allows the user to specify:\n",
    " - how many datapoints to generate\n",
    " - whether to plot with a filled in histogram or an outlined one\n",
    " - the title of the plot\n",
    " - And then have the plot be generated.\n",
    "\n",
    "* We want to be able to run a command like:\n",
    "\n",
    "```bash\n",
    "python breakout1.py -t -n 200 -T \"My Awesome Title\"\n",
    "```"
   ]
  },
  {
   "cell_type": "code",
   "execution_count": 1,
   "metadata": {
    "collapsed": false
   },
   "outputs": [
    {
     "name": "stdout",
     "output_type": "stream",
     "text": [
      "/Users/jbloom/Classes/python-seminar/Breakouts/01_Versioning_Application_Building/sol\n"
     ]
    }
   ],
   "source": [
    "cd /Users/jbloom/Classes/python-seminar/Breakouts/01_Versioning_Application_Building/sol"
   ]
  },
  {
   "cell_type": "code",
   "execution_count": 2,
   "metadata": {
    "collapsed": false
   },
   "outputs": [
    {
     "name": "stdout",
     "output_type": "stream",
     "text": [
      "breakout1_solution.py  \u001b[34mmy-virtualenv\u001b[m\u001b[m/         \u001b[34mplotting\u001b[m\u001b[m/\r\n",
      "\u001b[34mdatagen\u001b[m\u001b[m/               \u001b[34mmyenv\u001b[m\u001b[m/                 \u001b[34mttt\u001b[m\u001b[m/\r\n"
     ]
    }
   ],
   "source": [
    "ls"
   ]
  },
  {
   "cell_type": "code",
   "execution_count": 3,
   "metadata": {
    "collapsed": true
   },
   "outputs": [],
   "source": [
    "%matplotlib inline"
   ]
  },
  {
   "cell_type": "code",
   "execution_count": 4,
   "metadata": {
    "collapsed": false
   },
   "outputs": [
    {
     "data": {
      "image/png": "[encoded data removed]",
      "text/plain": [
       "<matplotlib.figure.Figure at 0x10ab7bdd8>"
      ]
     },
     "metadata": {},
     "output_type": "display_data"
    }
   ],
   "source": [
    "%run breakout1_solution.py -t"
   ]
  },
  {
   "cell_type": "code",
   "execution_count": 5,
   "metadata": {
    "collapsed": false
   },
   "outputs": [
    {
     "data": {
      "image/png": "[encoded data removed]",
      "text/plain": [
       "<matplotlib.figure.Figure at 0x10ab1c358>"
      ]
     },
     "metadata": {},
     "output_type": "display_data"
    }
   ],
   "source": [
    "%run breakout1_solution.py -n 200 -T \"My Awesome Title\""
   ]
  },
  {
   "cell_type": "code",
   "execution_count": null,
   "metadata": {
    "collapsed": true
   },
   "outputs": [],
   "source": []
  }
 ],
 "metadata": {
  "kernelspec": {
   "display_name": "Python 3",
   "language": "python",
   "name": "py3k"
  },
  "language_info": {
   "codemirror_mode": {
    "name": "ipython",
    "version": 3
   },
   "file_extension": ".py",
   "mimetype": "text/x-python",
   "name": "python",
   "nbconvert_exporter": "python",
   "pygments_lexer": "ipython3",
   "version": "3.5.2"
  }
 },
 "nbformat": 4,
 "nbformat_minor": 0
}
