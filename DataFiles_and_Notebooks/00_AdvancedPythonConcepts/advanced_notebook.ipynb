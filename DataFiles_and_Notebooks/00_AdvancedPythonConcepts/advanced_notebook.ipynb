{
 "cells": [
  {
   "cell_type": "code",
   "execution_count": 1,
   "metadata": {
    "collapsed": false,
    "slideshow": {
     "slide_type": "slide"
    }
   },
   "outputs": [
    {
     "data": {
      "text/html": [
       "<style>\n",
       "\n",
       ".rendered_html\n",
       "{\n",
       "  color: #2C5494;\n",
       "  font-family: Ubuntu;\n",
       "  font-size: 140%;\n",
       "  line-height: 1.1;\n",
       "  margin: 0.5em 0;\n",
       "  }\n",
       "\n",
       ".talk_title\n",
       "{\n",
       "  color: #498AF3;\n",
       "  font-size: 250%;\n",
       "  font-weight:bold;\n",
       "  line-height: 1.2; \n",
       "  margin: 10px 50px 10px;\n",
       "  }\n",
       "\n",
       ".subtitle\n",
       "{\n",
       "  color: #386BBC;\n",
       "  font-size: 180%;\n",
       "  font-weight:bold;\n",
       "  line-height: 1.2; \n",
       "  margin: 20px 50px 20px;\n",
       "  }\n",
       "\n",
       ".slide-header, p.slide-header\n",
       "{\n",
       "  color: #498AF3;\n",
       "  font-size: 200%;\n",
       "  font-weight:bold;\n",
       "  margin: 0px 20px 10px;\n",
       "  page-break-before: always;\n",
       "  text-align: center;\n",
       "  }\n",
       "\n",
       ".rendered_html h1\n",
       "{\n",
       "  color: #498AF3;\n",
       "  line-height: 1.2; \n",
       "  margin: 0.15em 0em 0.5em;\n",
       "  page-break-before: always;\n",
       "  text-align: center;\n",
       "  }\n",
       "\n",
       "\n",
       ".rendered_html h2\n",
       "{ \n",
       "  color: #386BBC;\n",
       "  line-height: 1.2;\n",
       "  margin: 1.1em 0em 0.5em;\n",
       "  }\n",
       "\n",
       ".rendered_html h3\n",
       "{ \n",
       "  font-size: 100%;\n",
       "  line-height: 1.2;\n",
       "  margin: 1.1em 0em 0.5em;\n",
       "  }\n",
       "\n",
       ".rendered_html li\n",
       "{\n",
       "  line-height: 1.8;\n",
       "  }\n",
       "\n",
       ".input_prompt, .CodeMirror-lines, .output_area\n",
       "{\n",
       "  font-family: Consolas;\n",
       "  font-size: 120%;\n",
       "  }\n",
       "\n",
       ".gap-above\n",
       "{\n",
       "  padding-top: 200px;\n",
       "  }\n",
       "\n",
       ".gap01\n",
       "{\n",
       "  padding-top: 10px;\n",
       "  }\n",
       "\n",
       ".gap05\n",
       "{\n",
       "  padding-top: 50px;\n",
       "  }\n",
       "\n",
       ".gap1\n",
       "{\n",
       "  padding-top: 100px;\n",
       "  }\n",
       "\n",
       ".gap2\n",
       "{\n",
       "  padding-top: 200px;\n",
       "  }\n",
       "\n",
       ".gap3\n",
       "{\n",
       "  padding-top: 300px;\n",
       "  }\n",
       "\n",
       ".emph\n",
       "{\n",
       "  color: #386BBC;\n",
       "  }\n",
       "\n",
       ".warn\n",
       "{\n",
       "  color: red;\n",
       "  }\n",
       "\n",
       ".center\n",
       "{\n",
       "  text-align: center;\n",
       "  }\n",
       "\n",
       ".nb_link\n",
       "{\n",
       "    padding-bottom: 0.5em;\n",
       "}\n",
       "\n",
       "</style>\n"
      ],
      "text/plain": [
       "<IPython.core.display.HTML object>"
      ]
     },
     "metadata": {},
     "output_type": "display_data"
    }
   ],
   "source": [
    "%run talktools.py"
   ]
  },
  {
   "cell_type": "markdown",
   "metadata": {},
   "source": [
    "## Lecture 00: Advanced Language Concepts\n",
    "\n",
    "We're using Python 3.5.X...You should be at least at IPython v5.0.0 for this. \n",
    "\n",
    "If not:\n",
    "<code bash>\n",
    "conda update conda \n",
    "conda update ipython juypter\n",
    "</code>\n",
    "\n",
    "Then fire up the notebook\n",
    "<code>\n",
    "$ cd DataFiles_and_Notebooks/00_AdvancedPythonConcepts/\n",
    "$ jupyter notebook\n",
    "</code>\n",
    "\n",
    "**Mr. Robot uses the CLI, but we'll use the Jupyter notebook.**\n",
    "\n",
    "<img src=\"http://i.imgur.com/4Qwsxx6.png\" width=\"60%\">\n",
    "\n",
    "https://www.reddit.com/r/Python/comments/3uxclx/noticed_some_python_code_in_the_tv_show_mr_robot/"
   ]
  },
  {
   "cell_type": "markdown",
   "metadata": {
    "slideshow": {
     "slide_type": "slide"
    }
   },
   "source": [
    "<center>\n",
    "<p class=\"gap03\"</p>\n",
    "<p class=\"talk_title\">Useful Advanced Concepts</p>\n",
    "<p class=\"gap03\"</p>\n",
    "</center>\n",
    "<ul>\n",
    " <li> ``OrderedDict``, ``namedtuple``\n",
    " <li> building iterators (Classes & generating functions)\n",
    " <li> ``with`` statements (Context managers)\n",
    " <li> decorators\n",
    "</ul>"
   ]
  },
  {
   "cell_type": "markdown",
   "metadata": {
    "slideshow": {
     "slide_type": "slide"
    }
   },
   "source": [
    "## OrderedDict ##\n",
    "\n",
    "not a core type like ``set``, ``dict``, ``list``, ``tuple``...\n",
    "but still very useful."
   ]
  },
  {
   "cell_type": "code",
   "execution_count": 2,
   "metadata": {
    "collapsed": false,
    "slideshow": {
     "slide_type": "fragment"
    }
   },
   "outputs": [],
   "source": [
    "a = {\"cal\": \"wow\", \"stanford\": \"meh\"}\n",
    "b = {\"stanford\": \"meh\", \"cal\": \"wow\"}"
   ]
  },
  {
   "cell_type": "code",
   "execution_count": 3,
   "metadata": {
    "collapsed": false,
    "slideshow": {
     "slide_type": "fragment"
    }
   },
   "outputs": [
    {
     "data": {
      "text/plain": [
       "True"
      ]
     },
     "execution_count": 3,
     "metadata": {},
     "output_type": "execute_result"
    }
   ],
   "source": [
    "a == b"
   ]
  },
  {
   "cell_type": "code",
   "execution_count": 4,
   "metadata": {
    "collapsed": false,
    "slideshow": {
     "slide_type": "fragment"
    }
   },
   "outputs": [
    {
     "name": "stdout",
     "output_type": "stream",
     "text": [
      "cal\n",
      "stanford\n",
      "\n",
      "**********\n",
      "wow\n",
      "meh\n",
      "\n",
      "**********\n",
      "cal wow\n",
      "stanford meh\n"
     ]
    }
   ],
   "source": [
    "for k in a.keys(): print(k,)\n",
    "print(\"\\n\" + \"*\"*10)\n",
    "for v in a.values(): print(v,)\n",
    "print(\"\\n\" + \"*\"*10)\n",
    "for k, v in a.items(): print(k, v)"
   ]
  },
  {
   "cell_type": "code",
   "execution_count": 5,
   "metadata": {
    "collapsed": false,
    "slideshow": {
     "slide_type": "slide"
    }
   },
   "outputs": [],
   "source": [
    "from collections import OrderedDict"
   ]
  },
  {
   "cell_type": "code",
   "execution_count": 6,
   "metadata": {
    "collapsed": false,
    "slideshow": {
     "slide_type": "fragment"
    }
   },
   "outputs": [],
   "source": [
    "c = OrderedDict()"
   ]
  },
  {
   "cell_type": "code",
   "execution_count": 7,
   "metadata": {
    "collapsed": false,
    "slideshow": {
     "slide_type": "fragment"
    }
   },
   "outputs": [
    {
     "data": {
      "text/plain": [
       "collections.OrderedDict"
      ]
     },
     "execution_count": 7,
     "metadata": {},
     "output_type": "execute_result"
    }
   ],
   "source": [
    "type(c)"
   ]
  },
  {
   "cell_type": "code",
   "execution_count": 8,
   "metadata": {
    "collapsed": false,
    "slideshow": {
     "slide_type": "fragment"
    }
   },
   "outputs": [],
   "source": [
    "c.update({\"best schools\": \"cal\"})\n",
    "c.update({\"worst schools\": \"you know\"})\n",
    "d = OrderedDict({\"worst schools\": \"you know\"})\n",
    "d.update({\"best schools\": \"cal\"})"
   ]
  },
  {
   "cell_type": "code",
   "execution_count": 9,
   "metadata": {
    "collapsed": false,
    "slideshow": {
     "slide_type": "fragment"
    }
   },
   "outputs": [
    {
     "data": {
      "text/plain": [
       "False"
      ]
     },
     "execution_count": 9,
     "metadata": {},
     "output_type": "execute_result"
    }
   ],
   "source": [
    "c == d"
   ]
  },
  {
   "cell_type": "code",
   "execution_count": 10,
   "metadata": {
    "collapsed": false,
    "slideshow": {
     "slide_type": "fragment"
    }
   },
   "outputs": [
    {
     "name": "stdout",
     "output_type": "stream",
     "text": [
      "OrderedDict([('best schools', 'cal'), ('worst schools', 'you know')])\n",
      "OrderedDict([('worst schools', 'you know'), ('best schools', 'cal')])\n"
     ]
    }
   ],
   "source": [
    "print(c)\n",
    "print(d)"
   ]
  },
  {
   "cell_type": "code",
   "execution_count": 14,
   "metadata": {
    "collapsed": false
   },
   "outputs": [
    {
     "ename": "KeyError",
     "evalue": "0",
     "output_type": "error",
     "traceback": [
      "\u001b[0;31m---------------------------------------------------------------------------\u001b[0m",
      "\u001b[0;31mKeyError\u001b[0m                                  Traceback (most recent call last)",
      "\u001b[0;32m<ipython-input-14-525b94006467>\u001b[0m in \u001b[0;36m<module>\u001b[0;34m()\u001b[0m\n\u001b[0;32m----> 1\u001b[0;31m \u001b[0mc\u001b[0m\u001b[0;34m[\u001b[0m\u001b[0;36m0\u001b[0m\u001b[0;34m]\u001b[0m\u001b[0;34m\u001b[0m\u001b[0m\n\u001b[0m",
      "\u001b[0;31mKeyError\u001b[0m: 0"
     ]
    }
   ],
   "source": []
  },
  {
   "cell_type": "code",
   "execution_count": 13,
   "metadata": {
    "collapsed": false
   },
   "outputs": [
    {
     "data": {
      "text/plain": [
       "'a'"
      ]
     },
     "execution_count": 13,
     "metadata": {},
     "output_type": "execute_result"
    }
   ],
   "source": [
    "{1: \"a\", \"n\":\"cat\"}[1]"
   ]
  },
  {
   "cell_type": "code",
   "execution_count": 15,
   "metadata": {
    "collapsed": false,
    "slideshow": {
     "slide_type": "fragment"
    }
   },
   "outputs": [
    {
     "data": {
      "text/plain": [
       "('worst schools', 'you know')"
      ]
     },
     "execution_count": 15,
     "metadata": {},
     "output_type": "execute_result"
    }
   ],
   "source": [
    "c.popitem()"
   ]
  },
  {
   "cell_type": "code",
   "execution_count": 16,
   "metadata": {
    "collapsed": false,
    "slideshow": {
     "slide_type": "fragment"
    }
   },
   "outputs": [
    {
     "data": {
      "text/plain": [
       "('best schools', 'cal')"
      ]
     },
     "execution_count": 16,
     "metadata": {},
     "output_type": "execute_result"
    }
   ],
   "source": [
    "d.popitem()"
   ]
  },
  {
   "cell_type": "code",
   "execution_count": 17,
   "metadata": {
    "collapsed": false,
    "slideshow": {
     "slide_type": "fragment"
    }
   },
   "outputs": [
    {
     "name": "stdout",
     "output_type": "stream",
     "text": [
      "c= OrderedDict([('best schools', 'cal')])\n",
      "d= OrderedDict([('worst schools', 'you know')])\n"
     ]
    }
   ],
   "source": [
    "print(\"c=\", c)\n",
    "print(\"d=\", d)"
   ]
  },
  {
   "cell_type": "markdown",
   "metadata": {
    "slideshow": {
     "slide_type": "fragment"
    }
   },
   "source": [
    " &nbsp;"
   ]
  },
  {
   "cell_type": "markdown",
   "metadata": {
    "slideshow": {
     "slide_type": "slide"
    }
   },
   "source": [
    "`OrderedDict` has all the same methods as `dict` types but includes the `.popitem()` method (which sort of like doing a `.pop()` on a list without any arguements."
   ]
  },
  {
   "cell_type": "code",
   "execution_count": 18,
   "metadata": {
    "collapsed": false,
    "slideshow": {
     "slide_type": "fragment"
    }
   },
   "outputs": [],
   "source": [
    "d = OrderedDict()\n",
    "d.update({\"best schools\": \"cal\", \n",
    "          \"worst schools\": \"you know\"})\n",
    "e = OrderedDict({\"worst schools\": \"you know\",\n",
    "                 \"best schools\": \"cal\"})"
   ]
  },
  {
   "cell_type": "code",
   "execution_count": 20,
   "metadata": {
    "collapsed": false
   },
   "outputs": [
    {
     "data": {
      "text/plain": [
       "{'best schools': 'cal', 'worst schools': 'you know'}"
      ]
     },
     "execution_count": 20,
     "metadata": {},
     "output_type": "execute_result"
    }
   ],
   "source": [
    "{\"worst schools\": \"you know\",\n",
    "                 \"best schools\": \"cal\"}"
   ]
  },
  {
   "cell_type": "code",
   "execution_count": 19,
   "metadata": {
    "collapsed": false,
    "slideshow": {
     "slide_type": "fragment"
    }
   },
   "outputs": [
    {
     "data": {
      "text/plain": [
       "True"
      ]
     },
     "execution_count": 19,
     "metadata": {},
     "output_type": "execute_result"
    }
   ],
   "source": [
    "d == e"
   ]
  },
  {
   "cell_type": "markdown",
   "metadata": {
    "slideshow": {
     "slide_type": "slide"
    }
   },
   "source": [
    "\"The `OrderedDict` constructor and `update()` method both accept keyword arguments, but their order is lost because Python’s function call semantics pass-in keyword arguments using a regular unordered dictionary.\"\n",
    "\n",
    "https://docs.python.org/3/library/collections.html#collections.OrderedDict"
   ]
  },
  {
   "cell_type": "code",
   "execution_count": 21,
   "metadata": {
    "collapsed": false,
    "slideshow": {
     "slide_type": "fragment"
    }
   },
   "outputs": [
    {
     "name": "stdout",
     "output_type": "stream",
     "text": [
      "OrderedDict([('best schools', 'cal'), ('worst schools', 'you know'), ('cal', 'I mean wow'), ('stanford', \"what's French for 'meh'?\"), ('Famous Trumps', ['Donald', 'Card'])])\n"
     ]
    }
   ],
   "source": [
    "# other ways to update OrderedDict\n",
    "d.update(cal=\"I mean wow\", stanford=\"what's French for 'meh'?\")\n",
    "d.update([(\"Famous Trumps\",[\"Donald\",\"Card\"])])\n",
    "print(d)"
   ]
  },
  {
   "cell_type": "code",
   "execution_count": 22,
   "metadata": {
    "collapsed": false,
    "slideshow": {
     "slide_type": "fragment"
    }
   },
   "outputs": [
    {
     "name": "stdout",
     "output_type": "stream",
     "text": [
      "best schools = cal\n",
      "worst schools = you know\n",
      "cal = I mean wow\n",
      "stanford = what's French for 'meh'?\n",
      "Famous Trumps = ['Donald', 'Card']\n"
     ]
    }
   ],
   "source": [
    "## unlike with a dict, the ordering of each pair in the\n",
    "## iteration is gauranteed across platforms. Hurray!\n",
    "for k,v in d.items():\n",
    "    print(k, \"=\", v)"
   ]
  },
  {
   "cell_type": "markdown",
   "metadata": {},
   "source": [
    "## namedtuple\n",
    "\n",
    "\"assign meaning to each position in a tuple and allow for more readable, *self-documenting code*.\"\n",
    "\n",
    "https://docs.python.org/3/library/collections.html#collections.namedtuple\n"
   ]
  },
  {
   "cell_type": "code",
   "execution_count": 23,
   "metadata": {
    "collapsed": true
   },
   "outputs": [],
   "source": [
    "from collections import namedtuple"
   ]
  },
  {
   "cell_type": "code",
   "execution_count": 24,
   "metadata": {
    "collapsed": false
   },
   "outputs": [
    {
     "data": {
      "text/plain": [
       "(1, 'hello', ['a'])"
      ]
     },
     "execution_count": 24,
     "metadata": {},
     "output_type": "execute_result"
    }
   ],
   "source": [
    "(1,\"hello\",[\"a\"])"
   ]
  },
  {
   "cell_type": "code",
   "execution_count": 25,
   "metadata": {
    "collapsed": false
   },
   "outputs": [],
   "source": [
    "Candidate = namedtuple('Candidate', \n",
    "                       ['office', 'name', 'party', 'tax_return'])"
   ]
  },
  {
   "cell_type": "code",
   "execution_count": 26,
   "metadata": {
    "collapsed": false
   },
   "outputs": [
    {
     "data": {
      "text/plain": [
       "('office', 'name', 'party', 'tax_return')"
      ]
     },
     "execution_count": 26,
     "metadata": {},
     "output_type": "execute_result"
    }
   ],
   "source": [
    "Candidate._fields"
   ]
  },
  {
   "cell_type": "code",
   "execution_count": 27,
   "metadata": {
    "collapsed": false
   },
   "outputs": [
    {
     "data": {
      "text/plain": [
       "<property at 0x104a4c778>"
      ]
     },
     "execution_count": 27,
     "metadata": {},
     "output_type": "execute_result"
    }
   ],
   "source": [
    "Candidate.office"
   ]
  },
  {
   "cell_type": "code",
   "execution_count": 28,
   "metadata": {
    "collapsed": true
   },
   "outputs": [],
   "source": [
    "Candidate.tax_return.__doc__ = \\\n",
    "   'has the candidate released their tax returns?'"
   ]
  },
  {
   "cell_type": "code",
   "execution_count": 29,
   "metadata": {
    "collapsed": false
   },
   "outputs": [],
   "source": [
    "h=Candidate(\"president\",\"Hillary\",\"Dem\",True)\n",
    "d=Candidate(\"president\",\"Donald\",\"GOP\",False)\n",
    "k=Candidate(\"senate\",\"Kamala\",\"Dem\",True)"
   ]
  },
  {
   "cell_type": "code",
   "execution_count": 30,
   "metadata": {
    "collapsed": false
   },
   "outputs": [
    {
     "data": {
      "text/plain": [
       "'Dem'"
      ]
     },
     "execution_count": 30,
     "metadata": {},
     "output_type": "execute_result"
    }
   ],
   "source": [
    "k.party"
   ]
  },
  {
   "cell_type": "code",
   "execution_count": 31,
   "metadata": {
    "collapsed": false
   },
   "outputs": [
    {
     "data": {
      "text/plain": [
       "OrderedDict([('office', 'president'),\n",
       "             ('name', 'Hillary'),\n",
       "             ('party', 'Dem'),\n",
       "             ('tax_return', True)])"
      ]
     },
     "execution_count": 31,
     "metadata": {},
     "output_type": "execute_result"
    }
   ],
   "source": [
    "h._asdict()"
   ]
  },
  {
   "cell_type": "code",
   "execution_count": 32,
   "metadata": {
    "collapsed": false
   },
   "outputs": [
    {
     "data": {
      "text/plain": [
       "odict_keys(['office', 'name', 'party', 'tax_return'])"
      ]
     },
     "execution_count": 32,
     "metadata": {},
     "output_type": "execute_result"
    }
   ],
   "source": [
    "h._asdict().keys()"
   ]
  },
  {
   "cell_type": "code",
   "execution_count": null,
   "metadata": {
    "collapsed": true
   },
   "outputs": [],
   "source": []
  },
  {
   "cell_type": "code",
   "execution_count": 33,
   "metadata": {
    "collapsed": false
   },
   "outputs": [
    {
     "name": "stdout",
     "output_type": "stream",
     "text": [
      "Hillary (Dem): shown tax return? True \n",
      "Donald (GOP): shown tax return? False \n",
      "Kamala (Dem): shown tax return? True \n"
     ]
    }
   ],
   "source": [
    "for cand in [h,d,k]:\n",
    "    print(\"{0} ({1}): shown tax return? {2} \" \\\n",
    "          .format(cand.name,cand.party,cand.tax_return))"
   ]
  },
  {
   "cell_type": "code",
   "execution_count": 37,
   "metadata": {
    "collapsed": false
   },
   "outputs": [
    {
     "data": {
      "text/plain": [
       "'has the candidate released their tax returns?'"
      ]
     },
     "execution_count": 37,
     "metadata": {},
     "output_type": "execute_result"
    }
   ],
   "source": [
    "Candidate.tax_return.__doc__"
   ]
  },
  {
   "cell_type": "markdown",
   "metadata": {
    "slideshow": {
     "slide_type": "fragment"
    }
   },
   "source": [
    " &nbsp;"
   ]
  },
  {
   "cell_type": "markdown",
   "metadata": {
    "slideshow": {
     "slide_type": "slide"
    }
   },
   "source": [
    "# Making Iterables #\n",
    "\n",
    "<center>Python can loop over many different types</center>"
   ]
  },
  {
   "cell_type": "markdown",
   "metadata": {
    "slideshow": {
     "slide_type": "fragment"
    }
   },
   "source": [
    "```python\n",
    "    >>> for element in [1, 2, 3]:\n",
    "        print(element, end=\" \")\n",
    "    1 2 3\n",
    "    >>> for element in (1, 2, 3):\n",
    "        print(element, end=\" \")\n",
    "    1 2 3\n",
    "    >>> for key in {'one':1, 'two':2}:\n",
    "        print(key, end=\" \")\n",
    "    one two\n",
    "    >>> for char in \"123\":\n",
    "        print(char, end=\" \")\n",
    "    1 2 3\n",
    "    >>> for a in {4,1,3,4,2}:\n",
    "        print(a, end=\" \")\n",
    "    1 2 3 4\n",
    "    >>> print({4,1,3,4,2,\"a\",0j})\n",
    "        set([0j, 'a', 2, 3, 4, 1])\n",
    "```"
   ]
  },
  {
   "cell_type": "markdown",
   "metadata": {
    "slideshow": {
     "slide_type": "fragment"
    }
   },
   "source": [
    " &nbsp;"
   ]
  },
  {
   "cell_type": "markdown",
   "metadata": {
    "slideshow": {
     "slide_type": "slide"
    }
   },
   "source": [
    "# Making Iterables #\n",
    "<center> Each of those above types have built-in methods.\n",
    "So do, even, `file` objects: </center>"
   ]
  },
  {
   "cell_type": "code",
   "execution_count": 39,
   "metadata": {
    "collapsed": false
   },
   "outputs": [
    {
     "name": "stdout",
     "output_type": "stream",
     "text": [
      "Writing file.txt\n"
     ]
    }
   ],
   "source": [
    "%%writefile file.txt\n",
    "blah"
   ]
  },
  {
   "cell_type": "code",
   "execution_count": 40,
   "metadata": {
    "collapsed": false
   },
   "outputs": [
    {
     "name": "stdout",
     "output_type": "stream",
     "text": [
      "blah"
     ]
    }
   ],
   "source": [
    "!head file.txt"
   ]
  },
  {
   "cell_type": "code",
   "execution_count": 38,
   "metadata": {
    "collapsed": false,
    "slideshow": {
     "slide_type": "fragment"
    }
   },
   "outputs": [
    {
     "name": "stdout",
     "output_type": "stream",
     "text": [
      "# here's some passwords I cracked\n",
      "\n",
      "guido  Monty\n",
      "\n",
      "cleese Python\n",
      "\n"
     ]
    }
   ],
   "source": [
    "for l in open(\"password.file\",\"r\"):\n",
    "    print(l,)"
   ]
  },
  {
   "cell_type": "code",
   "execution_count": 41,
   "metadata": {
    "collapsed": false,
    "slideshow": {
     "slide_type": "fragment"
    }
   },
   "outputs": [
    {
     "name": "stdout",
     "output_type": "stream",
     "text": [
      "dog cat cheezeberger "
     ]
    }
   ],
   "source": [
    "for x in [\"dog\",\"cat\",\"cheezeberger\"]:\n",
    "    print(x, end=\" \")"
   ]
  },
  {
   "cell_type": "code",
   "execution_count": 42,
   "metadata": {
    "collapsed": false,
    "slideshow": {
     "slide_type": "fragment"
    }
   },
   "outputs": [],
   "source": [
    "# this is what is actually getting call by the `for` call\n",
    "# for x in a: ...\n",
    "a = {\"cal\": \"wow\", \"stanford\": \"meh\"}\n",
    "b = iter(a)"
   ]
  },
  {
   "cell_type": "code",
   "execution_count": 43,
   "metadata": {
    "collapsed": false,
    "slideshow": {
     "slide_type": "fragment"
    }
   },
   "outputs": [
    {
     "data": {
      "text/plain": [
       "<dict_keyiterator at 0x104a59318>"
      ]
     },
     "execution_count": 43,
     "metadata": {},
     "output_type": "execute_result"
    }
   ],
   "source": []
  },
  {
   "cell_type": "code",
   "execution_count": 44,
   "metadata": {
    "collapsed": false,
    "slideshow": {
     "slide_type": "fragment"
    }
   },
   "outputs": [
    {
     "data": {
      "text/plain": [
       "'cal'"
      ]
     },
     "execution_count": 44,
     "metadata": {},
     "output_type": "execute_result"
    }
   ],
   "source": [
    "next(b)"
   ]
  },
  {
   "cell_type": "code",
   "execution_count": 45,
   "metadata": {
    "collapsed": false,
    "slideshow": {
     "slide_type": "fragment"
    }
   },
   "outputs": [
    {
     "data": {
      "text/plain": [
       "'stanford'"
      ]
     },
     "execution_count": 45,
     "metadata": {},
     "output_type": "execute_result"
    }
   ],
   "source": [
    "next(b)"
   ]
  },
  {
   "cell_type": "code",
   "execution_count": 46,
   "metadata": {
    "collapsed": false,
    "slideshow": {
     "slide_type": "fragment"
    }
   },
   "outputs": [
    {
     "ename": "StopIteration",
     "evalue": "",
     "output_type": "error",
     "traceback": [
      "\u001b[0;31m---------------------------------------------------------------------------\u001b[0m",
      "\u001b[0;31mStopIteration\u001b[0m                             Traceback (most recent call last)",
      "\u001b[0;32m<ipython-input-46-641a931447e8>\u001b[0m in \u001b[0;36m<module>\u001b[0;34m()\u001b[0m\n\u001b[0;32m----> 1\u001b[0;31m \u001b[0mnext\u001b[0m\u001b[0;34m(\u001b[0m\u001b[0mb\u001b[0m\u001b[0;34m)\u001b[0m\u001b[0;34m\u001b[0m\u001b[0m\n\u001b[0m",
      "\u001b[0;31mStopIteration\u001b[0m: "
     ]
    }
   ],
   "source": [
    "next(b)"
   ]
  },
  {
   "cell_type": "code",
   "execution_count": 47,
   "metadata": {
    "collapsed": true
   },
   "outputs": [],
   "source": [
    "b.__next__?"
   ]
  },
  {
   "cell_type": "markdown",
   "metadata": {},
   "source": [
    "<div class=\"alert alert-success\">\n",
    "note the consistency with `str()` and `__str__`, `len()` and `__len__`, ...\n",
    "</div>"
   ]
  },
  {
   "cell_type": "markdown",
   "metadata": {
    "slideshow": {
     "slide_type": "fragment"
    }
   },
   "source": [
    " &nbsp;"
   ]
  },
  {
   "cell_type": "markdown",
   "metadata": {
    "slideshow": {
     "slide_type": "slide"
    }
   },
   "source": [
    "# Making Iterables #\n",
    "\n",
    "<p class=\"gap05\"</p>\n",
    "\n",
    "We can make classes that know how to iterate, becoming new iterables types. The key is to build to special methods: ``.__iter__()`` and ``.__next__()``\n",
    "\n",
    "<p class=\"gap03\"</p>\n",
    "\n",
    " * `.__iter__()` : return an iterator object (usually just self) \n",
    " \n",
    " * `.__next__()` : return the next element in the iterator. raise a `StopIteration` exception if there is nothing left\n",
    " \n",
    "<p class=\"gap05\"</p>\n",
    "\n",
    "https://docs.python.org/3/library/stdtypes.html#typeiter"
   ]
  },
  {
   "cell_type": "code",
   "execution_count": 48,
   "metadata": {
    "collapsed": false,
    "slideshow": {
     "slide_type": "slide"
    }
   },
   "outputs": [
    {
     "name": "stdout",
     "output_type": "stream",
     "text": [
      "Overwriting myits1.py\n"
     ]
    }
   ],
   "source": [
    "%%file myits1.py\n",
    "\n",
    "\"\"\" let's make an iterator \"\"\"\n",
    "class Reverse:\n",
    "    \n",
    "     \"Iterator class for looping over a sequence backwards\"\n",
    "     def __init__(self, data):\n",
    "        self.data = data\n",
    "        self.index = len(data)\n",
    "\n",
    "     def __iter__(self):\n",
    "        # this is a required of an iterating class\n",
    "        return self\n",
    "\n",
    "     def previous(self):\n",
    "            return __next__()\n",
    "        \n",
    "     def __next__(self):\n",
    "        # we got to the front of the array\n",
    "        if self.index == 0:\n",
    "            raise StopIteration\n",
    "        \n",
    "        self.index = self.index - 1\n",
    "        return self.data[self.index]"
   ]
  },
  {
   "cell_type": "code",
   "execution_count": 59,
   "metadata": {
    "collapsed": false
   },
   "outputs": [
    {
     "ename": "IndexError",
     "evalue": "string index out of range",
     "output_type": "error",
     "traceback": [
      "\u001b[0;31m---------------------------------------------------------------------------\u001b[0m",
      "\u001b[0;31mIndexError\u001b[0m                                Traceback (most recent call last)",
      "\u001b[0;32m<ipython-input-59-3bdeb26c3aaf>\u001b[0m in \u001b[0;36m<module>\u001b[0;34m()\u001b[0m\n\u001b[0;32m----> 1\u001b[0;31m \u001b[0;34m\"dog\"\u001b[0m\u001b[0;34m[\u001b[0m\u001b[0;34m-\u001b[0m\u001b[0;36m4\u001b[0m\u001b[0;34m]\u001b[0m\u001b[0;34m\u001b[0m\u001b[0m\n\u001b[0m",
      "\u001b[0;31mIndexError\u001b[0m: string index out of range"
     ]
    }
   ],
   "source": [
    "\"dog\"[-4]"
   ]
  },
  {
   "cell_type": "code",
   "execution_count": 49,
   "metadata": {
    "collapsed": false,
    "slideshow": {
     "slide_type": "fragment"
    }
   },
   "outputs": [],
   "source": [
    "%run myits1"
   ]
  },
  {
   "cell_type": "code",
   "execution_count": 60,
   "metadata": {
    "collapsed": false,
    "slideshow": {
     "slide_type": "fragment"
    }
   },
   "outputs": [
    {
     "name": "stdout",
     "output_type": "stream",
     "text": [
      "<__main__.Reverse object at 0x104a64588>\n"
     ]
    }
   ],
   "source": [
    "r = Reverse(\"dog\")\n",
    "print(r)"
   ]
  },
  {
   "cell_type": "code",
   "execution_count": 61,
   "metadata": {
    "collapsed": false,
    "slideshow": {
     "slide_type": "fragment"
    }
   },
   "outputs": [
    {
     "name": "stdout",
     "output_type": "stream",
     "text": [
      "g o d "
     ]
    }
   ],
   "source": [
    "for c in r: print(c, end=\" \")"
   ]
  },
  {
   "cell_type": "markdown",
   "metadata": {},
   "source": [
    "<img src=\"https://img.buzzfeed.com/buzzfeed-static/static/2014-11/13/17/enhanced/webdr09/enhanced-9483-1415918730-8.png\" width=\"40%\">"
   ]
  },
  {
   "cell_type": "code",
   "execution_count": 62,
   "metadata": {
    "collapsed": false,
    "slideshow": {
     "slide_type": "fragment"
    }
   },
   "outputs": [
    {
     "ename": "StopIteration",
     "evalue": "",
     "output_type": "error",
     "traceback": [
      "\u001b[0;31m---------------------------------------------------------------------------\u001b[0m",
      "\u001b[0;31mStopIteration\u001b[0m                             Traceback (most recent call last)",
      "\u001b[0;32m<ipython-input-62-0b5056469c9c>\u001b[0m in \u001b[0;36m<module>\u001b[0;34m()\u001b[0m\n\u001b[0;32m----> 1\u001b[0;31m \u001b[0mnext\u001b[0m\u001b[0;34m(\u001b[0m\u001b[0mr\u001b[0m\u001b[0;34m)\u001b[0m\u001b[0;34m\u001b[0m\u001b[0m\n\u001b[0m",
      "\u001b[0;32m/Users/jbloom/Classes/python-seminar/DataFiles_and_Notebooks/00_AdvancedPythonConcepts/myits1.py\u001b[0m in \u001b[0;36m__next__\u001b[0;34m(self)\u001b[0m\n\u001b[1;32m     15\u001b[0m         \u001b[0;31m# we got to the front of the array\u001b[0m\u001b[0;34m\u001b[0m\u001b[0;34m\u001b[0m\u001b[0m\n\u001b[1;32m     16\u001b[0m         \u001b[0;32mif\u001b[0m \u001b[0mself\u001b[0m\u001b[0;34m.\u001b[0m\u001b[0mindex\u001b[0m \u001b[0;34m==\u001b[0m \u001b[0;36m0\u001b[0m\u001b[0;34m:\u001b[0m\u001b[0;34m\u001b[0m\u001b[0m\n\u001b[0;32m---> 17\u001b[0;31m             \u001b[0;32mraise\u001b[0m \u001b[0mStopIteration\u001b[0m\u001b[0;34m\u001b[0m\u001b[0m\n\u001b[0m\u001b[1;32m     18\u001b[0m \u001b[0;34m\u001b[0m\u001b[0m\n\u001b[1;32m     19\u001b[0m         \u001b[0mself\u001b[0m\u001b[0;34m.\u001b[0m\u001b[0mindex\u001b[0m \u001b[0;34m=\u001b[0m \u001b[0mself\u001b[0m\u001b[0;34m.\u001b[0m\u001b[0mindex\u001b[0m \u001b[0;34m-\u001b[0m \u001b[0;36m1\u001b[0m\u001b[0;34m\u001b[0m\u001b[0m\n",
      "\u001b[0;31mStopIteration\u001b[0m: "
     ]
    }
   ],
   "source": [
    "next(r)"
   ]
  },
  {
   "cell_type": "code",
   "execution_count": 63,
   "metadata": {
    "collapsed": false
   },
   "outputs": [],
   "source": [
    "r.index = -1"
   ]
  },
  {
   "cell_type": "code",
   "execution_count": 64,
   "metadata": {
    "collapsed": false
   },
   "outputs": [
    {
     "name": "stdout",
     "output_type": "stream",
     "text": [
      "od"
     ]
    },
    {
     "ename": "IndexError",
     "evalue": "string index out of range",
     "output_type": "error",
     "traceback": [
      "\u001b[0;31m---------------------------------------------------------------------------\u001b[0m",
      "\u001b[0;31mIndexError\u001b[0m                                Traceback (most recent call last)",
      "\u001b[0;32m<ipython-input-64-cd6dcd084ccc>\u001b[0m in \u001b[0;36m<module>\u001b[0;34m()\u001b[0m\n\u001b[0;32m----> 1\u001b[0;31m \u001b[0;32mfor\u001b[0m \u001b[0mc\u001b[0m \u001b[0;32min\u001b[0m \u001b[0mr\u001b[0m\u001b[0;34m:\u001b[0m \u001b[0mprint\u001b[0m\u001b[0;34m(\u001b[0m\u001b[0mc\u001b[0m\u001b[0;34m,\u001b[0m \u001b[0mend\u001b[0m\u001b[0;34m=\u001b[0m\u001b[0;34m\"\"\u001b[0m\u001b[0;34m)\u001b[0m\u001b[0;34m\u001b[0m\u001b[0m\n\u001b[0m",
      "\u001b[0;32m/Users/jbloom/Classes/python-seminar/DataFiles_and_Notebooks/00_AdvancedPythonConcepts/myits1.py\u001b[0m in \u001b[0;36m__next__\u001b[0;34m(self)\u001b[0m\n\u001b[1;32m     18\u001b[0m \u001b[0;34m\u001b[0m\u001b[0m\n\u001b[1;32m     19\u001b[0m         \u001b[0mself\u001b[0m\u001b[0;34m.\u001b[0m\u001b[0mindex\u001b[0m \u001b[0;34m=\u001b[0m \u001b[0mself\u001b[0m\u001b[0;34m.\u001b[0m\u001b[0mindex\u001b[0m \u001b[0;34m-\u001b[0m \u001b[0;36m1\u001b[0m\u001b[0;34m\u001b[0m\u001b[0m\n\u001b[0;32m---> 20\u001b[0;31m         \u001b[0;32mreturn\u001b[0m \u001b[0mself\u001b[0m\u001b[0;34m.\u001b[0m\u001b[0mdata\u001b[0m\u001b[0;34m[\u001b[0m\u001b[0mself\u001b[0m\u001b[0;34m.\u001b[0m\u001b[0mindex\u001b[0m\u001b[0;34m]\u001b[0m\u001b[0;34m\u001b[0m\u001b[0m\n\u001b[0m",
      "\u001b[0;31mIndexError\u001b[0m: string index out of range"
     ]
    }
   ],
   "source": [
    "for c in r: print(c, end=\"\")"
   ]
  },
  {
   "cell_type": "code",
   "execution_count": 65,
   "metadata": {
    "collapsed": false,
    "slideshow": {
     "slide_type": "fragment"
    }
   },
   "outputs": [
    {
     "name": "stdout",
     "output_type": "stream",
     "text": [
      "amanaplanacanalpanama"
     ]
    }
   ],
   "source": [
    "r = Reverse(\"amanaplanacanalpanama\")\n",
    "for c in r: print(c, end=\"\")"
   ]
  },
  {
   "cell_type": "code",
   "execution_count": 66,
   "metadata": {
    "collapsed": false
   },
   "outputs": [],
   "source": [
    "for c in r: print(c, end=\"\")"
   ]
  },
  {
   "cell_type": "markdown",
   "metadata": {
    "slideshow": {
     "slide_type": "fragment"
    }
   },
   "source": [
    " &nbsp;"
   ]
  },
  {
   "cell_type": "markdown",
   "metadata": {
    "slideshow": {
     "slide_type": "slide"
    }
   },
   "source": [
    "# Generators #\n",
    "\n",
    "<p class=\"gap03\"</p>\n",
    "Create a ``generator`` expression, something that is iterable:\n",
    "<p class=\"gap03\"</p>\n",
    "\n",
    "> e.g., (x**2 for x in range(3))\n",
    "\n",
    "<p class=\"gap03\"</p>\n",
    "Like list comprehension [] and set comprehension {}"
   ]
  },
  {
   "cell_type": "code",
   "execution_count": 72,
   "metadata": {
    "collapsed": false
   },
   "outputs": [
    {
     "ename": "TypeError",
     "evalue": "'generator' object is not subscriptable",
     "output_type": "error",
     "traceback": [
      "\u001b[0;31m---------------------------------------------------------------------------\u001b[0m",
      "\u001b[0;31mTypeError\u001b[0m                                 Traceback (most recent call last)",
      "\u001b[0;32m<ipython-input-72-95deb3ee4bff>\u001b[0m in \u001b[0;36m<module>\u001b[0;34m()\u001b[0m\n\u001b[0;32m----> 1\u001b[0;31m \u001b[0;34m(\u001b[0m\u001b[0mx\u001b[0m\u001b[0;34m**\u001b[0m\u001b[0;36m3\u001b[0m \u001b[0;32mfor\u001b[0m \u001b[0mx\u001b[0m \u001b[0;32min\u001b[0m \u001b[0mrange\u001b[0m\u001b[0;34m(\u001b[0m\u001b[0;36m10\u001b[0m\u001b[0;34m)\u001b[0m\u001b[0;34m)\u001b[0m\u001b[0;34m[\u001b[0m\u001b[0;36m4\u001b[0m\u001b[0;34m]\u001b[0m\u001b[0;34m\u001b[0m\u001b[0m\n\u001b[0m",
      "\u001b[0;31mTypeError\u001b[0m: 'generator' object is not subscriptable"
     ]
    }
   ],
   "source": [
    "(x**3 for x in range(10))[4]"
   ]
  },
  {
   "cell_type": "code",
   "execution_count": 73,
   "metadata": {
    "collapsed": false
   },
   "outputs": [],
   "source": [
    "a = ((x,x**2) for x in range(3))"
   ]
  },
  {
   "cell_type": "code",
   "execution_count": 76,
   "metadata": {
    "collapsed": false
   },
   "outputs": [
    {
     "data": {
      "text/plain": [
       "[<generator object <genexpr> at 0x104a5d938>]"
      ]
     },
     "execution_count": 76,
     "metadata": {},
     "output_type": "execute_result"
    }
   ],
   "source": [
    "[((x,x**2) for x in range(3))]"
   ]
  },
  {
   "cell_type": "code",
   "execution_count": 74,
   "metadata": {
    "collapsed": false,
    "slideshow": {
     "slide_type": "fragment"
    }
   },
   "outputs": [
    {
     "data": {
      "text/plain": [
       "{0: 0, 1: 1, 2: 4}"
      ]
     },
     "execution_count": 74,
     "metadata": {},
     "output_type": "execute_result"
    }
   ],
   "source": [
    "dict([(x,x**2) for x in range(3)])"
   ]
  },
  {
   "cell_type": "code",
   "execution_count": 77,
   "metadata": {
    "collapsed": false,
    "slideshow": {
     "slide_type": "fragment"
    }
   },
   "outputs": [
    {
     "name": "stdout",
     "output_type": "stream",
     "text": [
      "0 1 4 "
     ]
    }
   ],
   "source": [
    "for i in (x**2 for x in range(3)):\n",
    "    print(i, end=\" \")"
   ]
  },
  {
   "cell_type": "code",
   "execution_count": 81,
   "metadata": {
    "collapsed": false
   },
   "outputs": [
    {
     "data": {
      "text/plain": [
       "[0, 1, 2, 3, 4, 5, 6, 7, 8, 9]"
      ]
     },
     "execution_count": 81,
     "metadata": {},
     "output_type": "execute_result"
    }
   ],
   "source": [
    "list(range(10))"
   ]
  },
  {
   "cell_type": "code",
   "execution_count": 79,
   "metadata": {
    "collapsed": false
   },
   "outputs": [
    {
     "data": {
      "text/plain": [
       "4999999950000000"
      ]
     },
     "execution_count": 79,
     "metadata": {},
     "output_type": "execute_result"
    }
   ],
   "source": [
    "sum((x for x in range(100000000)))"
   ]
  },
  {
   "cell_type": "markdown",
   "metadata": {},
   "source": [
    "What's the difference between ( ... ) and [ ... ]?"
   ]
  },
  {
   "cell_type": "markdown",
   "metadata": {
    "slideshow": {
     "slide_type": "fragment"
    }
   },
   "source": [
    " &nbsp;"
   ]
  },
  {
   "cell_type": "markdown",
   "metadata": {
    "slideshow": {
     "slide_type": "slide"
    }
   },
   "source": [
    "# Making Generators #\n",
    "\n",
    "<p class=\"gap03\"</p>\n",
    "we can also make iterables using generating functions\n",
    "<p class=\"gap03\"</p>\n",
    "\n",
    "<div class=\"alert alert-success\">Generators are iterators, but you can only iterate over them once. It's because they do not store all the values in memory, they generate the values on the fly</div>\n",
    "\n",
    "<font color=\"red\"><b>yield</b></font> inside of a function acts like a \"temporary return\" but saves the entire state of the local variables for further use"
   ]
  },
  {
   "cell_type": "code",
   "execution_count": 111,
   "metadata": {
    "collapsed": false
   },
   "outputs": [
    {
     "name": "stdout",
     "output_type": "stream",
     "text": [
      "Overwriting first_its.py\n"
     ]
    }
   ],
   "source": [
    "%%file first_its.py\n",
    "def integers():\n",
    "    \"\"\"Infinite sequence of integers.\"\"\"\n",
    "    i = 1\n",
    "    while i < 10:\n",
    "        yield i\n",
    "        i = i + 1\n",
    "\n",
    "def squares():\n",
    "    global x \n",
    "    x = integers()\n",
    "    for i in x:\n",
    "        yield i * i"
   ]
  },
  {
   "cell_type": "code",
   "execution_count": 112,
   "metadata": {
    "collapsed": true
   },
   "outputs": [],
   "source": [
    "%run first_its.py"
   ]
  },
  {
   "cell_type": "code",
   "execution_count": 113,
   "metadata": {
    "collapsed": true
   },
   "outputs": [],
   "source": [
    "myint = integers()"
   ]
  },
  {
   "cell_type": "code",
   "execution_count": 121,
   "metadata": {
    "collapsed": true
   },
   "outputs": [],
   "source": [
    "s =squares()"
   ]
  },
  {
   "cell_type": "code",
   "execution_count": null,
   "metadata": {
    "collapsed": true
   },
   "outputs": [],
   "source": []
  },
  {
   "cell_type": "code",
   "execution_count": 118,
   "metadata": {
    "collapsed": false
   },
   "outputs": [
    {
     "data": {
      "text/plain": [
       "[4, 5, 6, 7, 8, 9]"
      ]
     },
     "execution_count": 118,
     "metadata": {},
     "output_type": "execute_result"
    }
   ],
   "source": [
    "list(myint)"
   ]
  },
  {
   "cell_type": "code",
   "execution_count": 120,
   "metadata": {
    "collapsed": false
   },
   "outputs": [
    {
     "ename": "StopIteration",
     "evalue": "",
     "output_type": "error",
     "traceback": [
      "\u001b[0;31m---------------------------------------------------------------------------\u001b[0m",
      "\u001b[0;31mStopIteration\u001b[0m                             Traceback (most recent call last)",
      "\u001b[0;32m<ipython-input-120-0f24359ee0ee>\u001b[0m in \u001b[0;36m<module>\u001b[0;34m()\u001b[0m\n\u001b[0;32m----> 1\u001b[0;31m \u001b[0mnext\u001b[0m\u001b[0;34m(\u001b[0m\u001b[0mmyint\u001b[0m\u001b[0;34m)\u001b[0m\u001b[0;34m\u001b[0m\u001b[0m\n\u001b[0m",
      "\u001b[0;31mStopIteration\u001b[0m: "
     ]
    }
   ],
   "source": [
    "next(myint)"
   ]
  },
  {
   "cell_type": "code",
   "execution_count": 86,
   "metadata": {
    "collapsed": false
   },
   "outputs": [
    {
     "name": "stdout",
     "output_type": "stream",
     "text": [
      "1\n",
      "2\n",
      "3\n",
      "4\n",
      "5\n",
      "6\n",
      "7\n",
      "8\n",
      "9\n",
      "10\n"
     ]
    }
   ],
   "source": [
    "for x in integers():\n",
    "    if x > 10:\n",
    "        break\n",
    "    print(x)"
   ]
  },
  {
   "cell_type": "code",
   "execution_count": 94,
   "metadata": {
    "collapsed": false,
    "slideshow": {
     "slide_type": "fragment"
    }
   },
   "outputs": [
    {
     "name": "stdout",
     "output_type": "stream",
     "text": [
      "Overwriting myits2.py\n"
     ]
    }
   ],
   "source": [
    "%%file myits2.py\n",
    "\n",
    "def countdown(start,end=0,step=1):\n",
    "     i = start\n",
    "     while (i >= end) or end == None:\n",
    "          yield i\n",
    "          i -= step"
   ]
  },
  {
   "cell_type": "markdown",
   "metadata": {
    "slideshow": {
     "slide_type": "-"
    }
   },
   "source": [
    "when the function stops yielding, `StopIteration` is raised (implicitly)"
   ]
  },
  {
   "cell_type": "code",
   "execution_count": 95,
   "metadata": {
    "collapsed": false,
    "slideshow": {
     "slide_type": "fragment"
    }
   },
   "outputs": [],
   "source": [
    "%run myits2"
   ]
  },
  {
   "cell_type": "code",
   "execution_count": 100,
   "metadata": {
    "collapsed": false,
    "slideshow": {
     "slide_type": "fragment"
    }
   },
   "outputs": [],
   "source": [
    "c = countdown(3,step=1.0)"
   ]
  },
  {
   "cell_type": "code",
   "execution_count": 101,
   "metadata": {
    "collapsed": false,
    "slideshow": {
     "slide_type": "fragment"
    }
   },
   "outputs": [
    {
     "data": {
      "text/plain": [
       "<generator object countdown at 0x104a21bf8>"
      ]
     },
     "execution_count": 101,
     "metadata": {},
     "output_type": "execute_result"
    }
   ],
   "source": [
    "c"
   ]
  },
  {
   "cell_type": "code",
   "execution_count": 102,
   "metadata": {
    "collapsed": false,
    "slideshow": {
     "slide_type": "fragment"
    }
   },
   "outputs": [
    {
     "data": {
      "text/plain": [
       "3"
      ]
     },
     "execution_count": 102,
     "metadata": {},
     "output_type": "execute_result"
    }
   ],
   "source": [
    "next(c)"
   ]
  },
  {
   "cell_type": "code",
   "execution_count": 103,
   "metadata": {
    "collapsed": false,
    "slideshow": {
     "slide_type": "fragment"
    }
   },
   "outputs": [
    {
     "data": {
      "text/plain": [
       "2.0"
      ]
     },
     "execution_count": 103,
     "metadata": {},
     "output_type": "execute_result"
    }
   ],
   "source": [
    "next(c)"
   ]
  },
  {
   "cell_type": "code",
   "execution_count": 106,
   "metadata": {
    "collapsed": false,
    "slideshow": {
     "slide_type": "fragment"
    }
   },
   "outputs": [
    {
     "ename": "StopIteration",
     "evalue": "",
     "output_type": "error",
     "traceback": [
      "\u001b[0;31m---------------------------------------------------------------------------\u001b[0m",
      "\u001b[0;31mStopIteration\u001b[0m                             Traceback (most recent call last)",
      "\u001b[0;32m<ipython-input-106-73b012f9653f>\u001b[0m in \u001b[0;36m<module>\u001b[0;34m()\u001b[0m\n\u001b[0;32m----> 1\u001b[0;31m \u001b[0mnext\u001b[0m\u001b[0;34m(\u001b[0m\u001b[0mc\u001b[0m\u001b[0;34m)\u001b[0m\u001b[0;34m\u001b[0m\u001b[0m\n\u001b[0m",
      "\u001b[0;31mStopIteration\u001b[0m: "
     ]
    }
   ],
   "source": [
    "next(c)"
   ]
  },
  {
   "cell_type": "markdown",
   "metadata": {
    "slideshow": {
     "slide_type": "fragment"
    }
   },
   "source": [
    "\"iterator on list: `next()` returns the next element of the list\n",
    "\n",
    "iterator generator: `next()` will compute the next element on the fly\"\n",
    "\n",
    "http://stackoverflow.com/questions/231767/the-python-yield-keyword-explained"
   ]
  },
  {
   "cell_type": "markdown",
   "metadata": {
    "slideshow": {
     "slide_type": "fragment"
    }
   },
   "source": [
    " &nbsp;"
   ]
  },
  {
   "cell_type": "markdown",
   "metadata": {
    "slideshow": {
     "slide_type": "slide"
    }
   },
   "source": [
    "# Example: Fibonacci sequence #\n",
    "\n",
    "$$\n",
    "F(n) = \\left\\{ \\begin{array}{rl}\n",
    "  0 &\\mbox{ if $n=0$} \\\\\n",
    "  1 &\\mbox{ if $n=1$} \\\\\n",
    "  F(n -1) + F(n -2) & \\mbox{ if $n >1$}\n",
    "       \\end{array} \\right.\n",
    "$$\n",
    "\n",
    "output: 0, 1, 1, 2, 3, 5, 8, 13, 21, ..."
   ]
  },
  {
   "cell_type": "code",
   "execution_count": 126,
   "metadata": {
    "collapsed": false,
    "slideshow": {
     "slide_type": "fragment"
    }
   },
   "outputs": [
    {
     "name": "stdout",
     "output_type": "stream",
     "text": [
      "Overwriting myits3.py\n"
     ]
    }
   ],
   "source": [
    "%%file myits3.py\n",
    "\n",
    "def fib():\n",
    "    a = 0\n",
    "    b = 1\n",
    "    i = 0\n",
    "    while i < 100:\n",
    "        yield a\n",
    "        i += 1\n",
    "        a, b = b, a + b"
   ]
  },
  {
   "cell_type": "code",
   "execution_count": 129,
   "metadata": {
    "collapsed": false,
    "slideshow": {
     "slide_type": "fragment"
    }
   },
   "outputs": [
    {
     "name": "stdout",
     "output_type": "stream",
     "text": [
      "0 1 1 2 3 5 8 13 21 34 55 89 144 233 377 610 987 1597 2584 4181 6765 10946 17711 28657 46368 75025 121393 196418 317811 514229 832040 1346269 2178309 3524578 5702887 9227465 14930352 24157817 39088169 63245986 102334155 165580141 267914296 433494437 701408733 1134903170 1836311903 2971215073 4807526976 7778742049 "
     ]
    }
   ],
   "source": [
    "%run myits3\n",
    "a = fib()\n",
    "for i in range(50): print(next(a), end=\" \")\n",
    "\n",
    "a = list(fib())"
   ]
  },
  {
   "cell_type": "code",
   "execution_count": 131,
   "metadata": {
    "collapsed": false
   },
   "outputs": [
    {
     "data": {
      "text/plain": [
       "12586269025"
      ]
     },
     "execution_count": 131,
     "metadata": {},
     "output_type": "execute_result"
    }
   ],
   "source": [
    "a[50]"
   ]
  },
  {
   "cell_type": "code",
   "execution_count": 132,
   "metadata": {
    "collapsed": false,
    "slideshow": {
     "slide_type": "fragment"
    }
   },
   "outputs": [
    {
     "name": "stdout",
     "output_type": "stream",
     "text": [
      "Overwriting myits4.py\n"
     ]
    }
   ],
   "source": [
    "%%file myits4.py\n",
    "\n",
    "def fib1(start=0,end=None,maxnum=100):\n",
    "    \"\"\"\n",
    "another yield example, allowing the user to start their own fibbinoci sequence at\n",
    "start (default is 0)\n",
    "    \"\"\"\n",
    "    a = start\n",
    "    b = start + 1\n",
    "    n_yielded = 0\n",
    "    while (n_yielded < maxnum or maxnum is None) and ((end is None) or (abs(a) < abs(end))):\n",
    "        \"abs needed to control against silly user starting with a negative number\"\n",
    "        yield a\n",
    "        n_yielded += 1\n",
    "        a, b = b, a + b\n",
    "    \n",
    "    # if we got here then we are returning instead of yielding. The countdown is finished\n",
    "    # we could raise a StopException excception here...this is done for us implicitly"
   ]
  },
  {
   "cell_type": "code",
   "execution_count": 133,
   "metadata": {
    "collapsed": true
   },
   "outputs": [],
   "source": [
    "%run myits4.py"
   ]
  },
  {
   "cell_type": "code",
   "execution_count": 134,
   "metadata": {
    "collapsed": false,
    "slideshow": {
     "slide_type": "fragment"
    }
   },
   "outputs": [
    {
     "name": "stdout",
     "output_type": "stream",
     "text": [
      "-1 0 -1 -1 -2 -3 -5 -8 -13 -21 "
     ]
    }
   ],
   "source": [
    "for e in fib1(start=-1,end=10000,maxnum=10): print(e, end=\" \")"
   ]
  },
  {
   "cell_type": "code",
   "execution_count": 135,
   "metadata": {
    "collapsed": false,
    "slideshow": {
     "slide_type": "fragment"
    }
   },
   "outputs": [
    {
     "data": {
      "text/plain": [
       "1"
      ]
     },
     "execution_count": 135,
     "metadata": {},
     "output_type": "execute_result"
    }
   ],
   "source": [
    "b = fib1(start=1,end=10000,maxnum=2)\n",
    "next(b)"
   ]
  },
  {
   "cell_type": "code",
   "execution_count": 136,
   "metadata": {
    "collapsed": false,
    "slideshow": {
     "slide_type": "fragment"
    }
   },
   "outputs": [
    {
     "data": {
      "text/plain": [
       "2"
      ]
     },
     "execution_count": 136,
     "metadata": {},
     "output_type": "execute_result"
    }
   ],
   "source": [
    "next(b)"
   ]
  },
  {
   "cell_type": "code",
   "execution_count": 137,
   "metadata": {
    "collapsed": false,
    "slideshow": {
     "slide_type": "fragment"
    }
   },
   "outputs": [
    {
     "ename": "StopIteration",
     "evalue": "",
     "output_type": "error",
     "traceback": [
      "\u001b[0;31m---------------------------------------------------------------------------\u001b[0m",
      "\u001b[0;31mStopIteration\u001b[0m                             Traceback (most recent call last)",
      "\u001b[0;32m<ipython-input-137-641a931447e8>\u001b[0m in \u001b[0;36m<module>\u001b[0;34m()\u001b[0m\n\u001b[0;32m----> 1\u001b[0;31m \u001b[0mnext\u001b[0m\u001b[0;34m(\u001b[0m\u001b[0mb\u001b[0m\u001b[0;34m)\u001b[0m\u001b[0;34m\u001b[0m\u001b[0m\n\u001b[0m",
      "\u001b[0;31mStopIteration\u001b[0m: "
     ]
    }
   ],
   "source": [
    "next(b)"
   ]
  },
  {
   "cell_type": "markdown",
   "metadata": {
    "slideshow": {
     "slide_type": "fragment"
    }
   },
   "source": [
    " &nbsp;"
   ]
  },
  {
   "cell_type": "markdown",
   "metadata": {
    "slideshow": {
     "slide_type": "slide"
    }
   },
   "source": [
    "# Breakout! #\n",
    "\n",
    "<center>\n",
    "The infinite series:\n",
    "1 - 1/3 + 1/5 - 1/7 ...\n",
    "converges to π/4\n",
    "</center>\n",
    "<p></p>\n",
    "\n",
    "a) write a generator function which progressively makes better and better approximations of π.\n",
    "\n",
    "b) modify the generator to stop after it reaches within 0.1% of the true value of π.  What value do you get?\n",
    "\n",
    "c) [optional] \"accelerate\" convergence by writing a generator that takes your answer in a) as an argument and returns:\n",
    "\n",
    "$$S_n = S_{n+1} - \\frac{(S_{n+1} - S_n)^2}{S_{n-1} - 2 S_n + S_{n+1}}$$"
   ]
  },
  {
   "cell_type": "markdown",
   "metadata": {
    "slideshow": {
     "slide_type": "slide"
    }
   },
   "source": [
    "<center>\n",
    "<img src=\"http://imgon.net/di-JMPP.gif\">\n",
    "</center>"
   ]
  },
  {
   "cell_type": "code",
   "execution_count": 141,
   "metadata": {
    "collapsed": false,
    "slideshow": {
     "slide_type": "slide"
    }
   },
   "outputs": [
    {
     "name": "stdout",
     "output_type": "stream",
     "text": [
      "3.1447274 ... 0.1% stops after: 319 iterations\n",
      "\n",
      "Last breakout question:\n",
      "******************************\n",
      "fractional accuracy first 8 in accelerated series:\n",
      "7.9813e-03 \n",
      "2.6290e-03 \n",
      "1.1604e-03 \n",
      "6.0801e-04 \n",
      "3.5657e-04 \n",
      "2.2642e-04 \n",
      "1.5252e-04 \n",
      "1.0753e-04 \n",
      "\n",
      "------------------------------\n",
      "\n",
      "fractional accuracy first 8 in un-accelerated series:\n",
      "2.7324e-01 \n",
      "1.5117e-01 \n",
      "1.0347e-01 \n",
      "7.8417e-02 \n",
      "6.3054e-02 \n",
      "5.2695e-02 \n",
      "4.5246e-02 \n",
      "3.9636e-02 \n"
     ]
    }
   ],
   "source": [
    "# %load /Users/jbloom/Classes/python-seminar/Breakouts/00_AdvancedPythonConcepts/week1-breakout1.py\n",
    "#!/usr/bin/env python\n",
    "\"\"\"\n",
    "Breakout answer from the Python seminar class (week #1)\n",
    "  - get's us used to using yield\n",
    "created by Josh Bloom at UC Berkeley, 2010, 2012, 2016 (ucbpythonclass+seminar@gmail.com)\n",
    "\"\"\"\n",
    "import math\n",
    "\n",
    "def pi_series(stop_when_close=False,close=0.001):\n",
    "    \"\"\" generate the series 4*(1/1 - 1/3 + 1/5 - 1/7 ...), which should be pi.\n",
    "      We have Libnitz to thank for this\n",
    "    \"\"\"\n",
    "    thesum = 0.0\n",
    "    i = 1.0 ; thesign = 1.0\n",
    "    while ((not stop_when_close) or (abs(4.0*thesum - math.pi) > close*math.pi)):\n",
    "        thesum += thesign/i\n",
    "        yield 4.0*thesum\n",
    "        i += 2.0 \n",
    "        thesign *= -1.0  ## change the sign in front of that term\n",
    "    \n",
    "    # notice that you don't need a StopIteration call\n",
    "\n",
    "def first_n(g, n):\n",
    "    for i in range(n):\n",
    "        yield next(g)\n",
    "\n",
    "def accel(series):\n",
    "    \"\"\" accelerate the series convergence.... we have Euler to thank for this\"\"\"\n",
    "    s0 = next(series) # Sn-1\n",
    "    s1 = next(series) # Sn\n",
    "    s2 = next(series) # Sn+1\n",
    "    while True:\n",
    "        yield s2 - ((s2 - s1)**2)/(s0 - 2.0*s1 + s2)\n",
    "        s0, s1, s2 = s1, s2, next(series)\n",
    "\n",
    "how_close = 0.001  # 0.1%\n",
    "firstbunch = \\\n",
    "   list(first_n(pi_series(stop_when_close=True,close=how_close),\\\n",
    "                 1000))\n",
    "\n",
    "print(\"{0:.7f} ... {2}% stops after: {1:d} iterations\\n\"\n",
    "      .format(firstbunch[-1],len(firstbunch),how_close*100))\n",
    "\n",
    "print(\"Last breakout question:\") \n",
    "print(\"*\"*30)\n",
    "\n",
    "b = accel(pi_series())\n",
    "print(\"fractional accuracy first 8 in accelerated series:\")\n",
    "\n",
    "for i in range(8): \n",
    "    print(\"{:.4e} \".format(abs(next(b) - math.pi)/math.pi))\n",
    "    \n",
    "a = pi_series()\n",
    "print(\"\\n\" + \"-\"*30)\n",
    "print(\"\\nfractional accuracy first 8 in un-accelerated series:\")\n",
    "for i in range(8): \n",
    "    print(\"{:.4e} \".format(abs(next(a) - math.pi)/math.pi))"
   ]
  },
  {
   "cell_type": "markdown",
   "metadata": {
    "slideshow": {
     "slide_type": "slide"
    }
   },
   "source": [
    "# Itertools #"
   ]
  },
  {
   "cell_type": "code",
   "execution_count": 142,
   "metadata": {
    "collapsed": false,
    "slideshow": {
     "slide_type": "fragment"
    }
   },
   "outputs": [],
   "source": [
    "import itertools"
   ]
  },
  {
   "cell_type": "code",
   "execution_count": 143,
   "metadata": {
    "collapsed": false,
    "slideshow": {
     "slide_type": "fragment"
    }
   },
   "outputs": [],
   "source": [
    "## chain many iterables together\n",
    "a = itertools.chain((x**2 for x in range(3)), (x**3 for x in range(3)))"
   ]
  },
  {
   "cell_type": "code",
   "execution_count": 144,
   "metadata": {
    "collapsed": false
   },
   "outputs": [
    {
     "data": {
      "text/plain": [
       "itertools.chain"
      ]
     },
     "execution_count": 144,
     "metadata": {},
     "output_type": "execute_result"
    }
   ],
   "source": []
  },
  {
   "cell_type": "code",
   "execution_count": 145,
   "metadata": {
    "collapsed": false,
    "slideshow": {
     "slide_type": "fragment"
    }
   },
   "outputs": [
    {
     "name": "stdout",
     "output_type": "stream",
     "text": [
      "0 1 4 0 1 8 "
     ]
    }
   ],
   "source": [
    "for x in a: \n",
    "    print(x, end=\" \")"
   ]
  },
  {
   "cell_type": "code",
   "execution_count": 146,
   "metadata": {
    "collapsed": false,
    "slideshow": {
     "slide_type": "fragment"
    }
   },
   "outputs": [
    {
     "name": "stdout",
     "output_type": "stream",
     "text": [
      "<itertools.chain object at 0x104a91a90>\n",
      "True\n",
      "True\n"
     ]
    }
   ],
   "source": [
    "print(a)\n",
    "print(hasattr(a,\"__next__\"))\n",
    "print(hasattr(a,\"__iter__\"))"
   ]
  },
  {
   "cell_type": "code",
   "execution_count": 147,
   "metadata": {
    "collapsed": false,
    "slideshow": {
     "slide_type": "fragment"
    }
   },
   "outputs": [
    {
     "name": "stdout",
     "output_type": "stream",
     "text": [
      "('dog', 'cat') ('dog', 'cheezberger') ('cat', 'cheezberger') "
     ]
    }
   ],
   "source": [
    "for x in itertools.combinations([\"dog\",\"cat\",\"cheezberger\"], 2): \n",
    "    print(x, end=\" \")"
   ]
  },
  {
   "cell_type": "code",
   "execution_count": 148,
   "metadata": {
    "collapsed": false,
    "slideshow": {
     "slide_type": "fragment"
    }
   },
   "outputs": [
    {
     "name": "stdout",
     "output_type": "stream",
     "text": [
      "('dog', 'cat', 'cheezberger') ('dog', 'cheezberger', 'cat') ('cat', 'dog', 'cheezberger') ('cat', 'cheezberger', 'dog') ('cheezberger', 'dog', 'cat') ('cheezberger', 'cat', 'dog') "
     ]
    }
   ],
   "source": [
    "for x in itertools.permutations([\"dog\",\"cat\",\"cheezberger\"]): \n",
    "    print(x, end= \" \")"
   ]
  },
  {
   "cell_type": "markdown",
   "metadata": {
    "slideshow": {
     "slide_type": "slide"
    }
   },
   "source": [
    "# Context Managers #\n",
    "\n",
    "allow you to build classes that provide a context to what you do:\n",
    "everything inside of a with statement operates abides by the context you create. You decide how to build up the context and how to tear it down.\n",
    "\n",
    "e.g., holding a lockfile, running a database transaction\n",
    "\n",
    "```python\n",
    ">>> with open(\"password.file\",\"r\") as f:\n",
    "    print f.readlines() \n",
    "[\"# here's some passwords I cracked\",\"guido  Monty\",\"cleese Python\"]\n",
    "```\n",
    "\n",
    "`f.close()` got called for us (and would have even under an exception)\n",
    "\n",
    "http://www.python.org/dev/peps/pep-0343/"
   ]
  },
  {
   "cell_type": "markdown",
   "metadata": {
    "slideshow": {
     "slide_type": "slide"
    }
   },
   "source": [
    "# Context Managers #\n",
    "\n",
    "write `__enter__()` and `__exit__()` methods. These get executed no matter what."
   ]
  },
  {
   "cell_type": "code",
   "execution_count": 149,
   "metadata": {
    "collapsed": false,
    "slideshow": {
     "slide_type": "fragment"
    }
   },
   "outputs": [
    {
     "name": "stdout",
     "output_type": "stream",
     "text": [
      "Overwriting myctx1.py\n"
     ]
    }
   ],
   "source": [
    "%%file myctx1.py\n",
    "\n",
    "class MyDecor:\n",
    "    \n",
    "    def __enter__(self):\n",
    "        print(\"Entered a wonderful technicolor world. Build it up\")\n",
    "        \n",
    "    def __exit__(self, *args):\n",
    "        ## *args hold the exception args if needed\n",
    "        print(\"...exiting this wonderful world. Tear it down.\")"
   ]
  },
  {
   "cell_type": "code",
   "execution_count": 150,
   "metadata": {
    "collapsed": false,
    "slideshow": {
     "slide_type": "fragment"
    }
   },
   "outputs": [],
   "source": [
    "%run myctx1.py\n",
    "a = MyDecor()\n"
   ]
  },
  {
   "cell_type": "code",
   "execution_count": 151,
   "metadata": {
    "collapsed": false
   },
   "outputs": [
    {
     "data": {
      "text/plain": [
       "__main__.MyDecor"
      ]
     },
     "execution_count": 151,
     "metadata": {},
     "output_type": "execute_result"
    }
   ],
   "source": [
    "type(a)"
   ]
  },
  {
   "cell_type": "code",
   "execution_count": 152,
   "metadata": {
    "collapsed": false
   },
   "outputs": [
    {
     "name": "stdout",
     "output_type": "stream",
     "text": [
      "Entered a wonderful technicolor world. Build it up\n",
      " Do something!\n",
      "...exiting this wonderful world. Tear it down.\n"
     ]
    }
   ],
   "source": [
    "with MyDecor():\n",
    "    print(\" Do something!\")"
   ]
  },
  {
   "cell_type": "markdown",
   "metadata": {
    "slideshow": {
     "slide_type": "fragment"
    }
   },
   "source": [
    "`__enter__()` and `__exit__()` only get called when invoked with the with statement"
   ]
  },
  {
   "cell_type": "markdown",
   "metadata": {
    "slideshow": {
     "slide_type": "fragment"
    }
   },
   "source": [
    " &nbsp;"
   ]
  },
  {
   "cell_type": "code",
   "execution_count": 169,
   "metadata": {
    "collapsed": false,
    "slideshow": {
     "slide_type": "slide"
    }
   },
   "outputs": [
    {
     "name": "stdout",
     "output_type": "stream",
     "text": [
      "Overwriting myctx2.py\n"
     ]
    }
   ],
   "source": [
    "%%file myctx2.py\n",
    "import time\n",
    "\n",
    "class MyDecor1:\n",
    "    \n",
    "    def __init__(self,expression=\"None\"):\n",
    "        self.expression = expression\n",
    "        print(\"init\",time.time())\n",
    "\n",
    "    def __enter__(self):\n",
    "        print(\"Entered a wonderful technicolor world. Build it up\") \n",
    "        print(\"enter\",time.time())\n",
    "        return self #eval(self.expression)\n",
    "\n",
    "    def __exit__(self,*args):\n",
    "        print(\"exit\",time.time())\n",
    "        print(\"...exiting this wonderful world. Tear it down.\")"
   ]
  },
  {
   "cell_type": "code",
   "execution_count": 171,
   "metadata": {
    "collapsed": false,
    "slideshow": {
     "slide_type": "fragment"
    }
   },
   "outputs": [
    {
     "name": "stdout",
     "output_type": "stream",
     "text": [
      "init 1472249355.060209\n",
      "Entered a wonderful technicolor world. Build it up\n",
      "enter 1472249355.060317\n",
      "2**3 + 104**23\n",
      "exit 1472249355.060344\n",
      "...exiting this wonderful world. Tear it down.\n"
     ]
    }
   ],
   "source": [
    "%run myctx2\n",
    "with MyDecor1(\"2**3 + 104**23\") as x:\n",
    "    print(x.expression)"
   ]
  },
  {
   "cell_type": "code",
   "execution_count": 163,
   "metadata": {
    "collapsed": false,
    "slideshow": {
     "slide_type": "fragment"
    }
   },
   "outputs": [
    {
     "name": "stdout",
     "output_type": "stream",
     "text": [
      "init 1472249089.047877\n",
      "Entered a wonderful technicolor world. Build it up\n",
      "enter 1472249089.047914\n",
      "exit 1472249089.047954\n",
      "...exiting this wonderful world. Tear it down.\n"
     ]
    },
    {
     "ename": "ZeroDivisionError",
     "evalue": "division by zero",
     "output_type": "error",
     "traceback": [
      "\u001b[0;31m---------------------------------------------------------------------------\u001b[0m",
      "\u001b[0;31mZeroDivisionError\u001b[0m                         Traceback (most recent call last)",
      "\u001b[0;32m<ipython-input-163-203bbc55bf01>\u001b[0m in \u001b[0;36m<module>\u001b[0;34m()\u001b[0m\n\u001b[1;32m      1\u001b[0m \u001b[0;32mwith\u001b[0m \u001b[0mMyDecor1\u001b[0m\u001b[0;34m(\u001b[0m\u001b[0;34m\"2\"\u001b[0m\u001b[0;34m)\u001b[0m \u001b[0;32mas\u001b[0m \u001b[0mx\u001b[0m\u001b[0;34m:\u001b[0m\u001b[0;34m\u001b[0m\u001b[0m\n\u001b[0;32m----> 2\u001b[0;31m     \u001b[0mprint\u001b[0m\u001b[0;34m(\u001b[0m\u001b[0mx\u001b[0m\u001b[0;34m/\u001b[0m\u001b[0;36m0\u001b[0m\u001b[0;34m)\u001b[0m\u001b[0;34m\u001b[0m\u001b[0m\n\u001b[0m",
      "\u001b[0;31mZeroDivisionError\u001b[0m: division by zero"
     ]
    }
   ],
   "source": [
    "with MyDecor1(\"2\") as x:\n",
    "    print(x/0)"
   ]
  },
  {
   "cell_type": "markdown",
   "metadata": {
    "slideshow": {
     "slide_type": "fragment"
    }
   },
   "source": [
    " &nbsp;"
   ]
  },
  {
   "cell_type": "markdown",
   "metadata": {
    "slideshow": {
     "slide_type": "slide"
    }
   },
   "source": [
    "<center>\n",
    "<img src=\"files/633514032027949357-Interior-Decorators.jpg\" width=80%>\n",
    "</center>"
   ]
  },
  {
   "cell_type": "markdown",
   "metadata": {
    "slideshow": {
     "slide_type": "slide"
    }
   },
   "source": [
    "# Decorators #\n",
    "\n",
    "special functions/classes that augment the functionality of other functions or classes (called in other languages macros or annotations)\n",
    "\n",
    "denoted with an @sign, immediately preceding decorator name, e.g. `@require_login` or `@testinput`"
   ]
  },
  {
   "cell_type": "code",
   "execution_count": 204,
   "metadata": {
    "collapsed": false,
    "slideshow": {
     "slide_type": "fragment"
    }
   },
   "outputs": [
    {
     "name": "stdout",
     "output_type": "stream",
     "text": [
      "Overwriting myctx3.py\n"
     ]
    }
   ],
   "source": [
    "%%file myctx3.py\n",
    "\n",
    "def entryExit(f):\n",
    "    \n",
    "    def new_f():\n",
    "        print(\"Entering\", f.__name__)\n",
    "        x = f()\n",
    "        print(\"hello, goodbye\")\n",
    "        print(\"Exited\", f.__name__)\n",
    "        return 10\n",
    "    return new_f\n",
    "\n",
    "@entryExit\n",
    "def func1():\n",
    "    print(\"inside func1()\")\n",
    "\n",
    "@entryExit\n",
    "def func2():\n",
    "    print(\"inside func2()\")\n",
    "    y = \"yeah!\"\n",
    "    return y"
   ]
  },
  {
   "cell_type": "code",
   "execution_count": 205,
   "metadata": {
    "collapsed": false
   },
   "outputs": [
    {
     "data": {
      "text/plain": [
       "function"
      ]
     },
     "execution_count": 205,
     "metadata": {},
     "output_type": "execute_result"
    }
   ],
   "source": [
    "type(entryExit)"
   ]
  },
  {
   "cell_type": "code",
   "execution_count": 206,
   "metadata": {
    "collapsed": false,
    "slideshow": {
     "slide_type": "fragment"
    }
   },
   "outputs": [
    {
     "name": "stdout",
     "output_type": "stream",
     "text": [
      "Entering func1\n",
      "inside func1()\n",
      "hello, goodbye\n",
      "Exited func1\n"
     ]
    }
   ],
   "source": [
    "%run myctx3\n",
    "func1()"
   ]
  },
  {
   "cell_type": "code",
   "execution_count": 207,
   "metadata": {
    "collapsed": false,
    "slideshow": {
     "slide_type": "fragment"
    }
   },
   "outputs": [
    {
     "name": "stdout",
     "output_type": "stream",
     "text": [
      "Entering func2\n",
      "inside func2()\n",
      "hello, goodbye\n",
      "Exited func2\n"
     ]
    },
    {
     "data": {
      "text/plain": [
       "'yeah!'"
      ]
     },
     "execution_count": 207,
     "metadata": {},
     "output_type": "execute_result"
    }
   ],
   "source": [
    "func2()"
   ]
  },
  {
   "cell_type": "code",
   "execution_count": 189,
   "metadata": {
    "collapsed": false,
    "slideshow": {
     "slide_type": "fragment"
    }
   },
   "outputs": [
    {
     "name": "stdout",
     "output_type": "stream",
     "text": [
      "Overwriting myctx4.py\n"
     ]
    }
   ],
   "source": [
    "%%file myctx4.py\n",
    "\n",
    "import time\n",
    "\n",
    "def introspect(f):\n",
    "    \n",
    "    def wrapper(*arg,**kwarg):\n",
    "        print(\"Function name = %s\" % f.__name__)\n",
    "        print(\" docstring = %s\" % f.__doc__)\n",
    "        start = time.time()\n",
    "        if len(arg) > 0:\n",
    "            print(\"   ... got passed args: %s \" % str(arg))\n",
    "        if len(kwarg.keys()) > 0:\n",
    "            print(\"   ... got passed keywords: %s \" % str(kwarg))\n",
    "        \n",
    "        x = f(*arg,**kwarg)\n",
    "        print(time.time() - start)\n",
    "        return x\n",
    "    \n",
    "    return wrapper"
   ]
  },
  {
   "cell_type": "markdown",
   "metadata": {},
   "source": [
    "<div class=\"alert alert-info\">\n",
    "Some advantages to using `functools.wraps`:\n",
    "https://docs.python.org/3/library/functools.html#functools.wraps\n",
    "</div>"
   ]
  },
  {
   "cell_type": "code",
   "execution_count": 190,
   "metadata": {
    "collapsed": false,
    "slideshow": {
     "slide_type": "fragment"
    }
   },
   "outputs": [],
   "source": [
    "%run myctx4"
   ]
  },
  {
   "cell_type": "code",
   "execution_count": 192,
   "metadata": {
    "collapsed": false,
    "slideshow": {
     "slide_type": "fragment"
    }
   },
   "outputs": [
    {
     "name": "stdout",
     "output_type": "stream",
     "text": [
      "Function name = myrange\n",
      " docstring = my awesome doc string\n",
      "   ... got passed args: (1, 10, 2) \n",
      "   ... got passed keywords: {'hello': True} \n",
      "5.000654935836792\n"
     ]
    },
    {
     "data": {
      "text/plain": [
       "range(1, 10, 2)"
      ]
     },
     "execution_count": 192,
     "metadata": {},
     "output_type": "execute_result"
    }
   ],
   "source": [
    "import time\n",
    "@introspect\n",
    "def myrange(start,stop,step,hello=True):\n",
    "    \"\"\"my awesome doc string\"\"\"\n",
    "    time.sleep(5)\n",
    "    return range(start,stop,step)\n",
    "\n",
    "myrange(1,10,2,hello=True)"
   ]
  },
  {
   "cell_type": "markdown",
   "metadata": {
    "slideshow": {
     "slide_type": "fragment"
    }
   },
   "source": [
    " &nbsp;"
   ]
  },
  {
   "cell_type": "code",
   "execution_count": 208,
   "metadata": {
    "collapsed": false,
    "slideshow": {
     "slide_type": "slide"
    }
   },
   "outputs": [],
   "source": [
    "def accepts(*types):\n",
    "    \"\"\" Function decorator. Checks that inputs given to decorated function\n",
    "      are of the expected type.\n",
    "  \n",
    "      Parameters:\n",
    "      types -- The expected types of the inputs to the decorated function.\n",
    "               Must specify type for each parameter.\n",
    "    \"\"\"\n",
    "    def decorator(f):\n",
    "        def newf(*args):\n",
    "            assert len(args) == len(types)\n",
    "            argtypes = tuple(map(type, args))\n",
    "            if argtypes != types:\n",
    "                a = \"in %s \"  % f.__name__\n",
    "                a += \"got %s but expected %s\" % (argtypes,types)\n",
    "                raise TypeError(a)\n",
    "            return f(*args)\n",
    "        return newf\n",
    "    return decorator"
   ]
  },
  {
   "cell_type": "code",
   "execution_count": 209,
   "metadata": {
    "collapsed": false,
    "slideshow": {
     "slide_type": "fragment"
    }
   },
   "outputs": [],
   "source": [
    "@introspect\n",
    "@accepts(int,int,int)\n",
    "def myrange(start,stop,step): \n",
    "    return range(start,stop,step)"
   ]
  },
  {
   "cell_type": "code",
   "execution_count": 212,
   "metadata": {
    "collapsed": false,
    "slideshow": {
     "slide_type": "fragment"
    }
   },
   "outputs": [
    {
     "name": "stdout",
     "output_type": "stream",
     "text": [
      "Function name = newf\n",
      " docstring = None\n",
      "   ... got passed args: (1, 10, 1) \n",
      "1.6927719116210938e-05\n"
     ]
    },
    {
     "data": {
      "text/plain": [
       "[1, 2, 3, 4, 5, 6, 7, 8, 9]"
      ]
     },
     "execution_count": 212,
     "metadata": {},
     "output_type": "execute_result"
    }
   ],
   "source": [
    "list(myrange(1,10,1))"
   ]
  },
  {
   "cell_type": "code",
   "execution_count": 213,
   "metadata": {
    "collapsed": false,
    "slideshow": {
     "slide_type": "fragment"
    }
   },
   "outputs": [
    {
     "name": "stdout",
     "output_type": "stream",
     "text": [
      "Function name = newf\n",
      " docstring = None\n",
      "   ... got passed args: (1.0, 10, 1) \n"
     ]
    },
    {
     "ename": "TypeError",
     "evalue": "in myrange got (<class 'float'>, <class 'int'>, <class 'int'>) but expected (<class 'int'>, <class 'int'>, <class 'int'>)",
     "output_type": "error",
     "traceback": [
      "\u001b[0;31m---------------------------------------------------------------------------\u001b[0m",
      "\u001b[0;31mTypeError\u001b[0m                                 Traceback (most recent call last)",
      "\u001b[0;32m<ipython-input-213-302929e84c97>\u001b[0m in \u001b[0;36m<module>\u001b[0;34m()\u001b[0m\n\u001b[0;32m----> 1\u001b[0;31m \u001b[0mmyrange\u001b[0m\u001b[0;34m(\u001b[0m\u001b[0;36m1.0\u001b[0m\u001b[0;34m,\u001b[0m\u001b[0;36m10\u001b[0m\u001b[0;34m,\u001b[0m\u001b[0;36m1\u001b[0m\u001b[0;34m)\u001b[0m\u001b[0;34m\u001b[0m\u001b[0m\n\u001b[0m",
      "\u001b[0;32m/Users/jbloom/Classes/python-seminar/DataFiles_and_Notebooks/00_AdvancedPythonConcepts/myctx4.py\u001b[0m in \u001b[0;36mwrapper\u001b[0;34m(*arg, **kwarg)\u001b[0m\n\u001b[1;32m     13\u001b[0m             \u001b[0mprint\u001b[0m\u001b[0;34m(\u001b[0m\u001b[0;34m\"   ... got passed keywords: %s \"\u001b[0m \u001b[0;34m%\u001b[0m \u001b[0mstr\u001b[0m\u001b[0;34m(\u001b[0m\u001b[0mkwarg\u001b[0m\u001b[0;34m)\u001b[0m\u001b[0;34m)\u001b[0m\u001b[0;34m\u001b[0m\u001b[0m\n\u001b[1;32m     14\u001b[0m \u001b[0;34m\u001b[0m\u001b[0m\n\u001b[0;32m---> 15\u001b[0;31m         \u001b[0mx\u001b[0m \u001b[0;34m=\u001b[0m \u001b[0mf\u001b[0m\u001b[0;34m(\u001b[0m\u001b[0;34m*\u001b[0m\u001b[0marg\u001b[0m\u001b[0;34m,\u001b[0m\u001b[0;34m**\u001b[0m\u001b[0mkwarg\u001b[0m\u001b[0;34m)\u001b[0m\u001b[0;34m\u001b[0m\u001b[0m\n\u001b[0m\u001b[1;32m     16\u001b[0m         \u001b[0mprint\u001b[0m\u001b[0;34m(\u001b[0m\u001b[0mtime\u001b[0m\u001b[0;34m.\u001b[0m\u001b[0mtime\u001b[0m\u001b[0;34m(\u001b[0m\u001b[0;34m)\u001b[0m \u001b[0;34m-\u001b[0m \u001b[0mstart\u001b[0m\u001b[0;34m)\u001b[0m\u001b[0;34m\u001b[0m\u001b[0m\n\u001b[1;32m     17\u001b[0m         \u001b[0;32mreturn\u001b[0m \u001b[0mx\u001b[0m\u001b[0;34m\u001b[0m\u001b[0m\n",
      "\u001b[0;32m<ipython-input-208-5a6b5c678ca2>\u001b[0m in \u001b[0;36mnewf\u001b[0;34m(*args)\u001b[0m\n\u001b[1;32m     14\u001b[0m                 \u001b[0ma\u001b[0m \u001b[0;34m=\u001b[0m \u001b[0;34m\"in %s \"\u001b[0m  \u001b[0;34m%\u001b[0m \u001b[0mf\u001b[0m\u001b[0;34m.\u001b[0m\u001b[0m__name__\u001b[0m\u001b[0;34m\u001b[0m\u001b[0m\n\u001b[1;32m     15\u001b[0m                 \u001b[0ma\u001b[0m \u001b[0;34m+=\u001b[0m \u001b[0;34m\"got %s but expected %s\"\u001b[0m \u001b[0;34m%\u001b[0m \u001b[0;34m(\u001b[0m\u001b[0margtypes\u001b[0m\u001b[0;34m,\u001b[0m\u001b[0mtypes\u001b[0m\u001b[0;34m)\u001b[0m\u001b[0;34m\u001b[0m\u001b[0m\n\u001b[0;32m---> 16\u001b[0;31m                 \u001b[0;32mraise\u001b[0m \u001b[0mTypeError\u001b[0m\u001b[0;34m(\u001b[0m\u001b[0ma\u001b[0m\u001b[0;34m)\u001b[0m\u001b[0;34m\u001b[0m\u001b[0m\n\u001b[0m\u001b[1;32m     17\u001b[0m             \u001b[0;32mreturn\u001b[0m \u001b[0mf\u001b[0m\u001b[0;34m(\u001b[0m\u001b[0;34m*\u001b[0m\u001b[0margs\u001b[0m\u001b[0;34m)\u001b[0m\u001b[0;34m\u001b[0m\u001b[0m\n\u001b[1;32m     18\u001b[0m         \u001b[0;32mreturn\u001b[0m \u001b[0mnewf\u001b[0m\u001b[0;34m\u001b[0m\u001b[0m\n",
      "\u001b[0;31mTypeError\u001b[0m: in myrange got (<class 'float'>, <class 'int'>, <class 'int'>) but expected (<class 'int'>, <class 'int'>, <class 'int'>)"
     ]
    }
   ],
   "source": [
    "myrange(1.0,10,1)"
   ]
  },
  {
   "cell_type": "markdown",
   "metadata": {},
   "source": [
    "### function annotations\n",
    "\n",
    "\"Function annotations are completely optional metadata information about the types used by user-defined functions.\" Discussed since 2006.\n",
    "\n",
    "Annotations are stored in the ``__annotations__`` attribute as a dictionary.\n",
    "\n",
    "https://docs.python.org/3/tutorial/controlflow.html#function-annotations"
   ]
  },
  {
   "cell_type": "code",
   "execution_count": 214,
   "metadata": {
    "collapsed": true
   },
   "outputs": [],
   "source": [
    "def add_ints(x: int, y: int) -> int:\n",
    "    return x + y"
   ]
  },
  {
   "cell_type": "code",
   "execution_count": 215,
   "metadata": {
    "collapsed": false
   },
   "outputs": [
    {
     "data": {
      "text/plain": [
       "{'return': int, 'x': int, 'y': int}"
      ]
     },
     "execution_count": 215,
     "metadata": {},
     "output_type": "execute_result"
    }
   ],
   "source": [
    "add_ints.__annotations__"
   ]
  },
  {
   "cell_type": "code",
   "execution_count": 221,
   "metadata": {
    "collapsed": false
   },
   "outputs": [],
   "source": [
    "from functools import wraps\n",
    "from inspect import getcallargs # dictionary\n",
    "\n",
    "def enforce(f):\n",
    "    @wraps(f)\n",
    "    def wrapper(*args, **kws):\n",
    "        for var, val in getcallargs(f, *args, **kws).items():\n",
    "            if var in f.__annotations__:\n",
    "                if type(val) != f.__annotations__.get(var):\n",
    "                    raise TypeError(\"{} is not of type {}\"\n",
    "                                   .format(val,f.__annotations__.get(var)))\n",
    "        ret_value = f(*args, **kws)\n",
    "        if f.__annotations__.get(\"return\"):\n",
    "            if type(ret_value) != f.__annotations__.get(\"return\"):\n",
    "                raise TypeError(\"{} is not of type {}\"\n",
    "                                   .format(ret_value,f.__annotations__.get(\"return\")))\n",
    "        return ret_value\n",
    "    return wrapper\n",
    "\n",
    "@enforce\n",
    "def add_ints(x: int, y: int) -> str:\n",
    "    return str(x + y)"
   ]
  },
  {
   "cell_type": "code",
   "execution_count": 222,
   "metadata": {
    "collapsed": false
   },
   "outputs": [
    {
     "data": {
      "text/plain": [
       "'3'"
      ]
     },
     "execution_count": 222,
     "metadata": {},
     "output_type": "execute_result"
    }
   ],
   "source": [
    "add_ints(1,2)"
   ]
  },
  {
   "cell_type": "code",
   "execution_count": 218,
   "metadata": {
    "collapsed": false
   },
   "outputs": [
    {
     "ename": "TypeError",
     "evalue": "1.0 is not of type <class 'int'>",
     "output_type": "error",
     "traceback": [
      "\u001b[0;31m---------------------------------------------------------------------------\u001b[0m",
      "\u001b[0;31mTypeError\u001b[0m                                 Traceback (most recent call last)",
      "\u001b[0;32m<ipython-input-218-9d2832a39aae>\u001b[0m in \u001b[0;36m<module>\u001b[0;34m()\u001b[0m\n\u001b[0;32m----> 1\u001b[0;31m \u001b[0madd_ints\u001b[0m\u001b[0;34m(\u001b[0m\u001b[0;36m1.0\u001b[0m\u001b[0;34m,\u001b[0m\u001b[0;36m2\u001b[0m\u001b[0;34m)\u001b[0m\u001b[0;34m\u001b[0m\u001b[0m\n\u001b[0m",
      "\u001b[0;32m<ipython-input-216-caa78c2ab25e>\u001b[0m in \u001b[0;36mwrapper\u001b[0;34m(*args, **kws)\u001b[0m\n\u001b[1;32m      9\u001b[0m                 \u001b[0;32mif\u001b[0m \u001b[0mtype\u001b[0m\u001b[0;34m(\u001b[0m\u001b[0mval\u001b[0m\u001b[0;34m)\u001b[0m \u001b[0;34m!=\u001b[0m \u001b[0mf\u001b[0m\u001b[0;34m.\u001b[0m\u001b[0m__annotations__\u001b[0m\u001b[0;34m.\u001b[0m\u001b[0mget\u001b[0m\u001b[0;34m(\u001b[0m\u001b[0mvar\u001b[0m\u001b[0;34m)\u001b[0m\u001b[0;34m:\u001b[0m\u001b[0;34m\u001b[0m\u001b[0m\n\u001b[1;32m     10\u001b[0m                     raise TypeError(\"{} is not of type {}\"\n\u001b[0;32m---> 11\u001b[0;31m                                    .format(val,f.__annotations__.get(var)))\n\u001b[0m\u001b[1;32m     12\u001b[0m         \u001b[0mret_value\u001b[0m \u001b[0;34m=\u001b[0m \u001b[0mf\u001b[0m\u001b[0;34m(\u001b[0m\u001b[0;34m*\u001b[0m\u001b[0margs\u001b[0m\u001b[0;34m,\u001b[0m \u001b[0;34m**\u001b[0m\u001b[0mkws\u001b[0m\u001b[0;34m)\u001b[0m\u001b[0;34m\u001b[0m\u001b[0m\n\u001b[1;32m     13\u001b[0m         \u001b[0;32mif\u001b[0m \u001b[0mf\u001b[0m\u001b[0;34m.\u001b[0m\u001b[0m__annotations__\u001b[0m\u001b[0;34m.\u001b[0m\u001b[0mget\u001b[0m\u001b[0;34m(\u001b[0m\u001b[0;34m\"return\"\u001b[0m\u001b[0;34m)\u001b[0m\u001b[0;34m:\u001b[0m\u001b[0;34m\u001b[0m\u001b[0m\n",
      "\u001b[0;31mTypeError\u001b[0m: 1.0 is not of type <class 'int'>"
     ]
    }
   ],
   "source": [
    "add_ints(1.0,2)"
   ]
  },
  {
   "cell_type": "markdown",
   "metadata": {
    "slideshow": {
     "slide_type": "fragment"
    }
   },
   "source": [
    " &nbsp;"
   ]
  },
  {
   "cell_type": "markdown",
   "metadata": {
    "slideshow": {
     "slide_type": "slide"
    }
   },
   "source": [
    "### A Little Teaser: Decorators in Flask #"
   ]
  },
  {
   "cell_type": "markdown",
   "metadata": {
    "collapsed": false,
    "slideshow": {
     "slide_type": "fragment"
    }
   },
   "source": [
    "```python\n",
    "def requires_roles(*roles):\n",
    "    def wrapper(f):\n",
    "        @wraps(f)\n",
    "        def wrapped(*args, **kwargs):\n",
    "            if get_current_user_role() not in roles:\n",
    "                return error_response()\n",
    "            return f(*args, **kwargs)\n",
    "        return wrapped\n",
    "    return wrapper\n",
    "\n",
    "@app.route('/user')\n",
    "@required_roles('admin', 'user')\n",
    "def user_page(self):\n",
    "    return \"You've got permission to access this page.\"\n",
    "```"
   ]
  },
  {
   "cell_type": "code",
   "execution_count": 228,
   "metadata": {
    "collapsed": true
   },
   "outputs": [],
   "source": [
    "from functools import wraps\n",
    "wraps?"
   ]
  },
  {
   "cell_type": "code",
   "execution_count": 224,
   "metadata": {
    "collapsed": false,
    "slideshow": {
     "slide_type": "fragment"
    }
   },
   "outputs": [],
   "source": [
    "def bread(func):\n",
    "    def wrapper(*args):\n",
    "        print(\"</''''''\\>\")\n",
    "        func(*args)\n",
    "        print(\"<\\______/>\")\n",
    "    return wrapper\n",
    "\n",
    "def ingredients(func):\n",
    "    def wrapper(*args):\n",
    "        print(\"#tomatoes#\")\n",
    "        func(*args)\n",
    "        print(\"~salad~\")\n",
    "    return wrapper\n",
    "\n",
    "@bread\n",
    "@ingredients\n",
    "def sandwich(food=\"--spam--\"):\n",
    "    print(food)"
   ]
  },
  {
   "cell_type": "code",
   "execution_count": 225,
   "metadata": {
    "collapsed": false,
    "slideshow": {
     "slide_type": "fragment"
    }
   },
   "outputs": [
    {
     "name": "stdout",
     "output_type": "stream",
     "text": [
      "</''''''\\>\n",
      "#tomatoes#\n",
      "cow\n",
      "~salad~\n",
      "<\\______/>\n"
     ]
    }
   ],
   "source": [
    "sandwich(\"cow\")"
   ]
  },
  {
   "cell_type": "code",
   "execution_count": 226,
   "metadata": {
    "collapsed": false,
    "slideshow": {
     "slide_type": "fragment"
    }
   },
   "outputs": [
    {
     "name": "stdout",
     "output_type": "stream",
     "text": [
      "</''''''\\>\n",
      "#tomatoes#\n",
      "--antelope--\n",
      "~salad~\n",
      "<\\______/>\n"
     ]
    }
   ],
   "source": [
    "sandwich(\"--antelope--\")"
   ]
  },
  {
   "cell_type": "markdown",
   "metadata": {
    "slideshow": {
     "slide_type": "fragment"
    }
   },
   "source": [
    "see http://stackoverflow.com/questions/739654/understanding-python-decorators"
   ]
  },
  {
   "cell_type": "markdown",
   "metadata": {
    "slideshow": {
     "slide_type": "slide"
    }
   },
   "source": [
    "[This was the (unassigned) homework from the bootcamp](https://github.com/profjsb/python-bootcamp/blob/master/Breakouts/Questions/Homework%20Day%20%232.ipynb); you should be able do implement the solution to this...if not, this course will be a challenge to you."
   ]
  },
  {
   "cell_type": "markdown",
   "metadata": {
    "slideshow": {
     "slide_type": "fragment"
    }
   },
   "source": [
    " &nbsp;"
   ]
  },
  {
   "cell_type": "markdown",
   "metadata": {
    "slideshow": {
     "slide_type": "slide"
    }
   },
   "source": [
    "<center>\n",
    "# Enjoy! #\n",
    "\n",
    "Help online:\n",
    "   \n",
    "   <a href=\"piazza.com/berkeley/fall2016/ay250class13410/home\">piazza.com/berkeley/fall2016/ay250class13410/home</a>\n",
    "\n",
    "See you next **Friday**! Please check the README of this repo for up-to-date reading assignments.\n",
    "\n",
    "</center>\n",
    "*remember to email us if you are “sitting in”...*"
   ]
  },
  {
   "cell_type": "markdown",
   "metadata": {
    "slideshow": {
     "slide_type": "notes"
    }
   },
   "source": [
    "(c) 2010, 2013, 2016 Python Seminar UC Berkeley, J. S. Bloom All Rights Reserved"
   ]
  },
  {
   "cell_type": "code",
   "execution_count": null,
   "metadata": {
    "collapsed": false
   },
   "outputs": [],
   "source": []
  }
 ],
 "metadata": {
  "kernelspec": {
   "display_name": "Python 3",
   "language": "python",
   "name": "py3k"
  },
  "language_info": {
   "codemirror_mode": {
    "name": "ipython",
    "version": 3
   },
   "file_extension": ".py",
   "mimetype": "text/x-python",
   "name": "python",
   "nbconvert_exporter": "python",
   "pygments_lexer": "ipython3",
   "version": "3.5.2"
  }
 },
 "nbformat": 4,
 "nbformat_minor": 0
}
